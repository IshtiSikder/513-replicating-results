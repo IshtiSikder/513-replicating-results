{
  "nbformat": 4,
  "nbformat_minor": 0,
  "metadata": {
    "colab": {
      "provenance": [],
      "include_colab_link": true
    },
    "kernelspec": {
      "name": "python3",
      "display_name": "Python 3"
    },
    "language_info": {
      "name": "python"
    }
  },
  "cells": [
    {
      "cell_type": "markdown",
      "metadata": {
        "id": "view-in-github",
        "colab_type": "text"
      },
      "source": [
        "<a href=\"https://colab.research.google.com/github/IshtiSikder/513-replicating-results/blob/main/513_final_project_replicating_results.ipynb\" target=\"_parent\"><img src=\"https://colab.research.google.com/assets/colab-badge.svg\" alt=\"Open In Colab\"/></a>"
      ]
    },
    {
      "cell_type": "code",
      "execution_count": 25,
      "metadata": {
        "colab": {
          "base_uri": "https://localhost:8080/"
        },
        "id": "FQcIdonUSA_7",
        "outputId": "3b542a6f-27e8-45ac-a3e8-474a255ff97d"
      },
      "outputs": [
        {
          "output_type": "stream",
          "name": "stdout",
          "text": [
            "Looking in indexes: https://pypi.org/simple, https://us-python.pkg.dev/colab-wheels/public/simple/\n",
            "Requirement already satisfied: gurobipy in /usr/local/lib/python3.8/dist-packages (10.0.0)\n"
          ]
        }
      ],
      "source": [
        "#Install gurobi\n",
        "!pip install gurobipy"
      ]
    },
    {
      "cell_type": "code",
      "source": [
        "#Import necessary libraries\n",
        "import sys\n",
        "import numpy as np\n",
        "import pandas as pd\n",
        "from numpy import linalg as la\n",
        "import gurobipy as gp\n",
        "from gurobipy import *"
      ],
      "metadata": {
        "id": "jzExF7GdSC_W"
      },
      "execution_count": 26,
      "outputs": []
    },
    {
      "cell_type": "code",
      "source": [
        "#Activate gurobi license (only if run on google colab)\n",
        "e = gp.Env(empty=True)\n",
        "e.setParam('WLSACCESSID', 'dcee8c55-6742-4816-bae1-a0742c8f71a9')\n",
        "e.setParam('WLSSECRET', '70f89e9f-2426-41b9-abe7-88c4b6090a45')\n",
        "e.setParam('LICENSEID',820825)\n",
        "e.start()"
      ],
      "metadata": {
        "colab": {
          "base_uri": "https://localhost:8080/"
        },
        "id": "JH-2qg-8SItd",
        "outputId": "fc391121-4a2d-4566-f26b-904ad66b7ed4"
      },
      "execution_count": 27,
      "outputs": [
        {
          "output_type": "stream",
          "name": "stdout",
          "text": [
            "Set parameter WLSAccessID\n",
            "Set parameter WLSSecret\n",
            "Set parameter LicenseID to value 820825\n",
            "Academic license - for non-commercial use only - registered to isikder@uncc.edu\n"
          ]
        },
        {
          "output_type": "execute_result",
          "data": {
            "text/plain": [
              "<gurobipy.Env, Parameter changes: WLSAccessID=(user-defined), WLSSecret=(user-defined), LicenseID=820825>"
            ]
          },
          "metadata": {},
          "execution_count": 27
        }
      ]
    },
    {
      "cell_type": "code",
      "source": [
        "#Setup the optimization model\n",
        "New_Model = gp.Model(\"New Model\",env=e) "
      ],
      "metadata": {
        "id": "BkGZ5C8fSMVV"
      },
      "execution_count": 28,
      "outputs": []
    },
    {
      "cell_type": "code",
      "source": [
        "data = pd.DataFrame({'pre-demand':[100,150,0,0,0,0],'pre-demand prob':[0.5,0.5,0,0,0,0],'demand':[650,750,850,950,1050,1150],'demand prob':[0.17,0.27,0.23,0.17,0.12,0.04]})\n",
        "data"
      ],
      "metadata": {
        "colab": {
          "base_uri": "https://localhost:8080/",
          "height": 238
        },
        "id": "q74WMxR3lxaa",
        "outputId": "1ea937aa-8e16-44d3-f2a1-2a1e5a615678"
      },
      "execution_count": 29,
      "outputs": [
        {
          "output_type": "execute_result",
          "data": {
            "text/plain": [
              "   pre-demand  pre-demand prob  demand  demand prob\n",
              "0         100              0.5     650         0.17\n",
              "1         150              0.5     750         0.27\n",
              "2           0              0.0     850         0.23\n",
              "3           0              0.0     950         0.17\n",
              "4           0              0.0    1050         0.12\n",
              "5           0              0.0    1150         0.04"
            ],
            "text/html": [
              "\n",
              "  <div id=\"df-3cbc53ca-90f6-4e70-8c58-177bc80fc937\">\n",
              "    <div class=\"colab-df-container\">\n",
              "      <div>\n",
              "<style scoped>\n",
              "    .dataframe tbody tr th:only-of-type {\n",
              "        vertical-align: middle;\n",
              "    }\n",
              "\n",
              "    .dataframe tbody tr th {\n",
              "        vertical-align: top;\n",
              "    }\n",
              "\n",
              "    .dataframe thead th {\n",
              "        text-align: right;\n",
              "    }\n",
              "</style>\n",
              "<table border=\"1\" class=\"dataframe\">\n",
              "  <thead>\n",
              "    <tr style=\"text-align: right;\">\n",
              "      <th></th>\n",
              "      <th>pre-demand</th>\n",
              "      <th>pre-demand prob</th>\n",
              "      <th>demand</th>\n",
              "      <th>demand prob</th>\n",
              "    </tr>\n",
              "  </thead>\n",
              "  <tbody>\n",
              "    <tr>\n",
              "      <th>0</th>\n",
              "      <td>100</td>\n",
              "      <td>0.5</td>\n",
              "      <td>650</td>\n",
              "      <td>0.17</td>\n",
              "    </tr>\n",
              "    <tr>\n",
              "      <th>1</th>\n",
              "      <td>150</td>\n",
              "      <td>0.5</td>\n",
              "      <td>750</td>\n",
              "      <td>0.27</td>\n",
              "    </tr>\n",
              "    <tr>\n",
              "      <th>2</th>\n",
              "      <td>0</td>\n",
              "      <td>0.0</td>\n",
              "      <td>850</td>\n",
              "      <td>0.23</td>\n",
              "    </tr>\n",
              "    <tr>\n",
              "      <th>3</th>\n",
              "      <td>0</td>\n",
              "      <td>0.0</td>\n",
              "      <td>950</td>\n",
              "      <td>0.17</td>\n",
              "    </tr>\n",
              "    <tr>\n",
              "      <th>4</th>\n",
              "      <td>0</td>\n",
              "      <td>0.0</td>\n",
              "      <td>1050</td>\n",
              "      <td>0.12</td>\n",
              "    </tr>\n",
              "    <tr>\n",
              "      <th>5</th>\n",
              "      <td>0</td>\n",
              "      <td>0.0</td>\n",
              "      <td>1150</td>\n",
              "      <td>0.04</td>\n",
              "    </tr>\n",
              "  </tbody>\n",
              "</table>\n",
              "</div>\n",
              "      <button class=\"colab-df-convert\" onclick=\"convertToInteractive('df-3cbc53ca-90f6-4e70-8c58-177bc80fc937')\"\n",
              "              title=\"Convert this dataframe to an interactive table.\"\n",
              "              style=\"display:none;\">\n",
              "        \n",
              "  <svg xmlns=\"http://www.w3.org/2000/svg\" height=\"24px\"viewBox=\"0 0 24 24\"\n",
              "       width=\"24px\">\n",
              "    <path d=\"M0 0h24v24H0V0z\" fill=\"none\"/>\n",
              "    <path d=\"M18.56 5.44l.94 2.06.94-2.06 2.06-.94-2.06-.94-.94-2.06-.94 2.06-2.06.94zm-11 1L8.5 8.5l.94-2.06 2.06-.94-2.06-.94L8.5 2.5l-.94 2.06-2.06.94zm10 10l.94 2.06.94-2.06 2.06-.94-2.06-.94-.94-2.06-.94 2.06-2.06.94z\"/><path d=\"M17.41 7.96l-1.37-1.37c-.4-.4-.92-.59-1.43-.59-.52 0-1.04.2-1.43.59L10.3 9.45l-7.72 7.72c-.78.78-.78 2.05 0 2.83L4 21.41c.39.39.9.59 1.41.59.51 0 1.02-.2 1.41-.59l7.78-7.78 2.81-2.81c.8-.78.8-2.07 0-2.86zM5.41 20L4 18.59l7.72-7.72 1.47 1.35L5.41 20z\"/>\n",
              "  </svg>\n",
              "      </button>\n",
              "      \n",
              "  <style>\n",
              "    .colab-df-container {\n",
              "      display:flex;\n",
              "      flex-wrap:wrap;\n",
              "      gap: 12px;\n",
              "    }\n",
              "\n",
              "    .colab-df-convert {\n",
              "      background-color: #E8F0FE;\n",
              "      border: none;\n",
              "      border-radius: 50%;\n",
              "      cursor: pointer;\n",
              "      display: none;\n",
              "      fill: #1967D2;\n",
              "      height: 32px;\n",
              "      padding: 0 0 0 0;\n",
              "      width: 32px;\n",
              "    }\n",
              "\n",
              "    .colab-df-convert:hover {\n",
              "      background-color: #E2EBFA;\n",
              "      box-shadow: 0px 1px 2px rgba(60, 64, 67, 0.3), 0px 1px 3px 1px rgba(60, 64, 67, 0.15);\n",
              "      fill: #174EA6;\n",
              "    }\n",
              "\n",
              "    [theme=dark] .colab-df-convert {\n",
              "      background-color: #3B4455;\n",
              "      fill: #D2E3FC;\n",
              "    }\n",
              "\n",
              "    [theme=dark] .colab-df-convert:hover {\n",
              "      background-color: #434B5C;\n",
              "      box-shadow: 0px 1px 3px 1px rgba(0, 0, 0, 0.15);\n",
              "      filter: drop-shadow(0px 1px 2px rgba(0, 0, 0, 0.3));\n",
              "      fill: #FFFFFF;\n",
              "    }\n",
              "  </style>\n",
              "\n",
              "      <script>\n",
              "        const buttonEl =\n",
              "          document.querySelector('#df-3cbc53ca-90f6-4e70-8c58-177bc80fc937 button.colab-df-convert');\n",
              "        buttonEl.style.display =\n",
              "          google.colab.kernel.accessAllowed ? 'block' : 'none';\n",
              "\n",
              "        async function convertToInteractive(key) {\n",
              "          const element = document.querySelector('#df-3cbc53ca-90f6-4e70-8c58-177bc80fc937');\n",
              "          const dataTable =\n",
              "            await google.colab.kernel.invokeFunction('convertToInteractive',\n",
              "                                                     [key], {});\n",
              "          if (!dataTable) return;\n",
              "\n",
              "          const docLinkHtml = 'Like what you see? Visit the ' +\n",
              "            '<a target=\"_blank\" href=https://colab.research.google.com/notebooks/data_table.ipynb>data table notebook</a>'\n",
              "            + ' to learn more about interactive tables.';\n",
              "          element.innerHTML = '';\n",
              "          dataTable['output_type'] = 'display_data';\n",
              "          await google.colab.output.renderOutput(dataTable, element);\n",
              "          const docLink = document.createElement('div');\n",
              "          docLink.innerHTML = docLinkHtml;\n",
              "          element.appendChild(docLink);\n",
              "        }\n",
              "      </script>\n",
              "    </div>\n",
              "  </div>\n",
              "  "
            ]
          },
          "metadata": {},
          "execution_count": 29
        }
      ]
    },
    {
      "cell_type": "code",
      "source": [
        "K = range(1,37)\n",
        "T = [1,2]"
      ],
      "metadata": {
        "id": "rq5vPXCGTxLX"
      },
      "execution_count": 30,
      "outputs": []
    },
    {
      "cell_type": "code",
      "source": [
        "Q = New_Model.addVars(K,T,lb=0,vtype=GRB.INTEGER)\n",
        "v = New_Model.addVars(K,[0,1,2],lb=0,vtype=GRB.INTEGER)\n",
        "u = New_Model.addVars(K,T,lb=0,vtype=GRB.INTEGER)\n",
        "x = New_Model.addVars(K,T,lb=0,vtype=GRB.INTEGER)\n",
        "q = New_Model.addVars(K,T,lb=0,vtype=GRB.INTEGER)\n",
        "c = New_Model.addVars(T,lb=0,vtype=GRB.INTEGER)\n",
        "h = New_Model.addVars(T,lb=0,vtype=GRB.INTEGER)\n",
        "s = New_Model.addVars(T,lb=0,vtype=GRB.INTEGER)"
      ],
      "metadata": {
        "id": "5eygADrhSaWn"
      },
      "execution_count": 31,
      "outputs": []
    },
    {
      "cell_type": "code",
      "source": [
        "for k in K:\n",
        "  for t in T:\n",
        "      if 1<=k<=6:\n",
        "        x[k,t]=data['demand'][0] + np.random.choice(list(data['pre-demand'])[:2], 1, list(data['pre-demand prob'])[:2])[0]\n",
        "        q[k,t]=data['demand prob'][0]\n",
        "      elif 7<=k<=12:\n",
        "        x[k,t]=data['demand'][1] + np.random.choice(list(data['pre-demand'])[:2], 1, list(data['pre-demand prob'])[:2])[0]\n",
        "        q[k,t]=data['demand prob'][1]\n",
        "      elif 13<=k<=18:\n",
        "        x[k,t]=data['demand'][2] + np.random.choice(list(data['pre-demand'])[:2], 1, list(data['pre-demand prob'])[:2])[0]\n",
        "        q[k,t]=data['demand prob'][2]\n",
        "      elif 19<=k<=24:\n",
        "        x[k,t]=data['demand'][3] + np.random.choice(list(data['pre-demand'])[:2], 1, list(data['pre-demand prob'])[:2])[0]\n",
        "        q[k,t]=data['demand prob'][3]\n",
        "      elif 25<=k<=30:\n",
        "        x[k,t]=data['demand'][4] + np.random.choice(list(data['pre-demand'])[:2], 1, list(data['pre-demand prob'])[:2])[0]\n",
        "        q[k,t]=data['demand prob'][4]\n",
        "      else:\n",
        "        x[k,t]=data['demand'][5] + np.random.choice(list(data['pre-demand'])[:2], 1, list(data['pre-demand prob'])[:2])[0]\n",
        "        q[k,t]=data['demand prob'][5]\n",
        "'''  \n",
        "    else:\n",
        "        x[k,t] = np.random.choice(list(data['pre-demand'])[:2], 1, list(data['pre-demand prob'])[:2])[0]\n",
        "        q[k,t] = data.loc[data.index[data['pre-demand']==x[k,t]].tolist()[0],'pre-demand prob']\n",
        "'''"
      ],
      "metadata": {
        "colab": {
          "base_uri": "https://localhost:8080/",
          "height": 53
        },
        "id": "O7iSXbLIV_0J",
        "outputId": "b257436d-3307-4a7a-b4c1-e49bdd13ccaf"
      },
      "execution_count": 32,
      "outputs": [
        {
          "output_type": "execute_result",
          "data": {
            "text/plain": [
              "\"  \\n    else:\\n        x[k,t] = np.random.choice(list(data['pre-demand'])[:2], 1, list(data['pre-demand prob'])[:2])[0]\\n        q[k,t] = data.loc[data.index[data['pre-demand']==x[k,t]].tolist()[0],'pre-demand prob']\\n\""
            ],
            "application/vnd.google.colaboratory.intrinsic+json": {
              "type": "string"
            }
          },
          "metadata": {},
          "execution_count": 32
        }
      ]
    },
    {
      "cell_type": "code",
      "source": [
        "Q_prime = New_Model.addVars([1,2],[0,1,2,3,4,5,6],lb=0,vtype=GRB.INTEGER)\n",
        "u_prime = New_Model.addVars([2],[1,2,3,4,5,6],lb=0,vtype=GRB.INTEGER)\n",
        "v_prime = New_Model.addVars([2],[1,2,3,4,5,6],lb=0,vtype=GRB.INTEGER)"
      ],
      "metadata": {
        "id": "FKui9Bc-sqgl"
      },
      "execution_count": 33,
      "outputs": []
    },
    {
      "cell_type": "code",
      "source": [
        "#bin = New_Model.addVars(K,[0,1,2],vtype=GRB.BINARY)"
      ],
      "metadata": {
        "id": "o6JQKnvip4uB"
      },
      "execution_count": 34,
      "outputs": []
    },
    {
      "cell_type": "code",
      "source": [
        "c[1] = 30\n",
        "c[2] = 4*c[1]\n",
        "s[1] = 300\n",
        "s[2] = s[1]\n",
        "\n",
        "for t in T:\n",
        "  h[t] = c[t]/2"
      ],
      "metadata": {
        "id": "qJfyqt6mtg9M"
      },
      "execution_count": 35,
      "outputs": []
    },
    {
      "cell_type": "code",
      "source": [
        "'''\n",
        "for k in K:\n",
        "  for t in T:\n",
        "    if t == 1:\n",
        "      x[k,t] = np.random.choice(list(data['pre-demand'])[:2], 1, list(data['pre-demand prob'])[:2])[0]\n",
        "      q[k,t] = data.loc[data.index[data['pre-demand']==x[k,t]].tolist()[0],'pre-demand prob']\n",
        "    else:\n",
        "      x[k,t] = np.random.choice(list(data['demand']), 1, list(data['demand prob']))[0]\n",
        "      q[k,t] = data.loc[data.index[data['demand']==x[k,t]].tolist()[0],'demand prob']\n",
        "'''"
      ],
      "metadata": {
        "id": "PufrQwSWTpaG",
        "colab": {
          "base_uri": "https://localhost:8080/",
          "height": 71
        },
        "outputId": "e6c880bb-7baf-49fe-cfde-3d3288af981c"
      },
      "execution_count": 36,
      "outputs": [
        {
          "output_type": "execute_result",
          "data": {
            "text/plain": [
              "\"\\nfor k in K:\\n  for t in T:\\n    if t == 1:\\n      x[k,t] = np.random.choice(list(data['pre-demand'])[:2], 1, list(data['pre-demand prob'])[:2])[0]\\n      q[k,t] = data.loc[data.index[data['pre-demand']==x[k,t]].tolist()[0],'pre-demand prob']\\n    else:\\n      x[k,t] = np.random.choice(list(data['demand']), 1, list(data['demand prob']))[0]\\n      q[k,t] = data.loc[data.index[data['demand']==x[k,t]].tolist()[0],'demand prob']\\n\""
            ],
            "application/vnd.google.colaboratory.intrinsic+json": {
              "type": "string"
            }
          },
          "metadata": {},
          "execution_count": 36
        }
      ]
    },
    {
      "cell_type": "code",
      "source": [
        "New_Model.addConstrs(v[k,0]==0 for k in K)\n",
        "#New_Model.addConstrs(bin[k,0]==0 for k in K)\n",
        "#New_Model.addConstrs(bin[k,2]== bin[k,1]for k in K)"
      ],
      "metadata": {
        "colab": {
          "base_uri": "https://localhost:8080/"
        },
        "id": "IYk5A2T6Wqnv",
        "outputId": "847ac7ff-37d7-4c5a-afbc-6bf902d88a88"
      },
      "execution_count": 37,
      "outputs": [
        {
          "output_type": "execute_result",
          "data": {
            "text/plain": [
              "{1: <gurobi.Constr *Awaiting Model Update*>,\n",
              " 2: <gurobi.Constr *Awaiting Model Update*>,\n",
              " 3: <gurobi.Constr *Awaiting Model Update*>,\n",
              " 4: <gurobi.Constr *Awaiting Model Update*>,\n",
              " 5: <gurobi.Constr *Awaiting Model Update*>,\n",
              " 6: <gurobi.Constr *Awaiting Model Update*>,\n",
              " 7: <gurobi.Constr *Awaiting Model Update*>,\n",
              " 8: <gurobi.Constr *Awaiting Model Update*>,\n",
              " 9: <gurobi.Constr *Awaiting Model Update*>,\n",
              " 10: <gurobi.Constr *Awaiting Model Update*>,\n",
              " 11: <gurobi.Constr *Awaiting Model Update*>,\n",
              " 12: <gurobi.Constr *Awaiting Model Update*>,\n",
              " 13: <gurobi.Constr *Awaiting Model Update*>,\n",
              " 14: <gurobi.Constr *Awaiting Model Update*>,\n",
              " 15: <gurobi.Constr *Awaiting Model Update*>,\n",
              " 16: <gurobi.Constr *Awaiting Model Update*>,\n",
              " 17: <gurobi.Constr *Awaiting Model Update*>,\n",
              " 18: <gurobi.Constr *Awaiting Model Update*>,\n",
              " 19: <gurobi.Constr *Awaiting Model Update*>,\n",
              " 20: <gurobi.Constr *Awaiting Model Update*>,\n",
              " 21: <gurobi.Constr *Awaiting Model Update*>,\n",
              " 22: <gurobi.Constr *Awaiting Model Update*>,\n",
              " 23: <gurobi.Constr *Awaiting Model Update*>,\n",
              " 24: <gurobi.Constr *Awaiting Model Update*>,\n",
              " 25: <gurobi.Constr *Awaiting Model Update*>,\n",
              " 26: <gurobi.Constr *Awaiting Model Update*>,\n",
              " 27: <gurobi.Constr *Awaiting Model Update*>,\n",
              " 28: <gurobi.Constr *Awaiting Model Update*>,\n",
              " 29: <gurobi.Constr *Awaiting Model Update*>,\n",
              " 30: <gurobi.Constr *Awaiting Model Update*>,\n",
              " 31: <gurobi.Constr *Awaiting Model Update*>,\n",
              " 32: <gurobi.Constr *Awaiting Model Update*>,\n",
              " 33: <gurobi.Constr *Awaiting Model Update*>,\n",
              " 34: <gurobi.Constr *Awaiting Model Update*>,\n",
              " 35: <gurobi.Constr *Awaiting Model Update*>,\n",
              " 36: <gurobi.Constr *Awaiting Model Update*>}"
            ]
          },
          "metadata": {},
          "execution_count": 37
        }
      ]
    },
    {
      "cell_type": "code",
      "source": [
        "New_Model.addConstrs(Q[k,1] == Q_prime[1,0] for k in K)\n",
        "New_Model.addConstrs(Q[k,2] == Q_prime[2,1] for k in K[:6])\n",
        "New_Model.addConstrs(Q[k,2] == Q_prime[2,2] for k in K[6:12])\n",
        "New_Model.addConstrs(Q[k,2] == Q_prime[2,3] for k in K[12:18])\n",
        "New_Model.addConstrs(Q[k,2] == Q_prime[2,4] for k in K[18:24])\n",
        "New_Model.addConstrs(Q[k,2] == Q_prime[2,5] for k in K[24:30])\n",
        "New_Model.addConstrs(Q[k,2] == Q_prime[2,6] for k in K[30:36])"
      ],
      "metadata": {
        "id": "2i4kcnSIU9QQ",
        "colab": {
          "base_uri": "https://localhost:8080/"
        },
        "outputId": "36d8883f-6b20-4e98-cdf6-0f0ffb4a122b"
      },
      "execution_count": 38,
      "outputs": [
        {
          "output_type": "execute_result",
          "data": {
            "text/plain": [
              "{31: <gurobi.Constr *Awaiting Model Update*>,\n",
              " 32: <gurobi.Constr *Awaiting Model Update*>,\n",
              " 33: <gurobi.Constr *Awaiting Model Update*>,\n",
              " 34: <gurobi.Constr *Awaiting Model Update*>,\n",
              " 35: <gurobi.Constr *Awaiting Model Update*>,\n",
              " 36: <gurobi.Constr *Awaiting Model Update*>}"
            ]
          },
          "metadata": {},
          "execution_count": 38
        }
      ]
    },
    {
      "cell_type": "code",
      "source": [
        "New_Model.addConstrs(u[k,2] == u_prime[2,1] for k in K[:6])\n",
        "New_Model.addConstrs(u[k,2] == u_prime[2,2] for k in K[6:12])\n",
        "New_Model.addConstrs(u[k,2] == u_prime[2,3] for k in K[12:18])\n",
        "New_Model.addConstrs(u[k,2] == u_prime[2,4] for k in K[18:24])\n",
        "New_Model.addConstrs(u[k,2] == u_prime[2,5] for k in K[24:30])\n",
        "New_Model.addConstrs(u[k,2] == u_prime[2,6] for k in K[30:36])"
      ],
      "metadata": {
        "colab": {
          "base_uri": "https://localhost:8080/"
        },
        "id": "8r0AI8j9MZnD",
        "outputId": "7cbd9cf4-b7ef-4c4c-bb73-7bc402249f6d"
      },
      "execution_count": 39,
      "outputs": [
        {
          "output_type": "execute_result",
          "data": {
            "text/plain": [
              "{31: <gurobi.Constr *Awaiting Model Update*>,\n",
              " 32: <gurobi.Constr *Awaiting Model Update*>,\n",
              " 33: <gurobi.Constr *Awaiting Model Update*>,\n",
              " 34: <gurobi.Constr *Awaiting Model Update*>,\n",
              " 35: <gurobi.Constr *Awaiting Model Update*>,\n",
              " 36: <gurobi.Constr *Awaiting Model Update*>}"
            ]
          },
          "metadata": {},
          "execution_count": 39
        }
      ]
    },
    {
      "cell_type": "code",
      "source": [
        "New_Model.addConstrs(v[k,2] == v_prime[2,1] for k in K[:6])\n",
        "New_Model.addConstrs(v[k,2] == v_prime[2,2] for k in K[6:12])\n",
        "New_Model.addConstrs(v[k,2] == v_prime[2,3] for k in K[12:18])\n",
        "New_Model.addConstrs(v[k,2] == v_prime[2,4] for k in K[18:24])\n",
        "New_Model.addConstrs(v[k,2] == v_prime[2,5] for k in K[24:30])\n",
        "New_Model.addConstrs(v[k,2] == v_prime[2,6] for k in K[30:36])"
      ],
      "metadata": {
        "colab": {
          "base_uri": "https://localhost:8080/"
        },
        "id": "Qx2aCt9JM6Q3",
        "outputId": "7382d881-186b-4ed6-f8e1-b39215a05602"
      },
      "execution_count": 40,
      "outputs": [
        {
          "output_type": "execute_result",
          "data": {
            "text/plain": [
              "{31: <gurobi.Constr *Awaiting Model Update*>,\n",
              " 32: <gurobi.Constr *Awaiting Model Update*>,\n",
              " 33: <gurobi.Constr *Awaiting Model Update*>,\n",
              " 34: <gurobi.Constr *Awaiting Model Update*>,\n",
              " 35: <gurobi.Constr *Awaiting Model Update*>,\n",
              " 36: <gurobi.Constr *Awaiting Model Update*>}"
            ]
          },
          "metadata": {},
          "execution_count": 40
        }
      ]
    },
    {
      "cell_type": "code",
      "source": [
        "#New_Model.addConstrs(Q[k,t]+bin[k,t-1]*v[k,t-1]+(1-bin[k,t])*u[k,t]-bin[k,t]*v[k,t] == x[k,t] for k in K for t in T)"
      ],
      "metadata": {
        "id": "4fYML5bGPQ9_"
      },
      "execution_count": 41,
      "outputs": []
    },
    {
      "cell_type": "code",
      "source": [
        "New_Model.addConstrs(Q[k,t]+v[k,t-1]+u[k,t]-v[k,t] == x[k,t] for k in K for t in T)"
      ],
      "metadata": {
        "colab": {
          "base_uri": "https://localhost:8080/"
        },
        "id": "SyqHU-BA_t2F",
        "outputId": "cda2b960-a577-4237-86c1-482724a336aa"
      },
      "execution_count": 42,
      "outputs": [
        {
          "output_type": "execute_result",
          "data": {
            "text/plain": [
              "{(1, 1): <gurobi.Constr *Awaiting Model Update*>,\n",
              " (1, 2): <gurobi.Constr *Awaiting Model Update*>,\n",
              " (2, 1): <gurobi.Constr *Awaiting Model Update*>,\n",
              " (2, 2): <gurobi.Constr *Awaiting Model Update*>,\n",
              " (3, 1): <gurobi.Constr *Awaiting Model Update*>,\n",
              " (3, 2): <gurobi.Constr *Awaiting Model Update*>,\n",
              " (4, 1): <gurobi.Constr *Awaiting Model Update*>,\n",
              " (4, 2): <gurobi.Constr *Awaiting Model Update*>,\n",
              " (5, 1): <gurobi.Constr *Awaiting Model Update*>,\n",
              " (5, 2): <gurobi.Constr *Awaiting Model Update*>,\n",
              " (6, 1): <gurobi.Constr *Awaiting Model Update*>,\n",
              " (6, 2): <gurobi.Constr *Awaiting Model Update*>,\n",
              " (7, 1): <gurobi.Constr *Awaiting Model Update*>,\n",
              " (7, 2): <gurobi.Constr *Awaiting Model Update*>,\n",
              " (8, 1): <gurobi.Constr *Awaiting Model Update*>,\n",
              " (8, 2): <gurobi.Constr *Awaiting Model Update*>,\n",
              " (9, 1): <gurobi.Constr *Awaiting Model Update*>,\n",
              " (9, 2): <gurobi.Constr *Awaiting Model Update*>,\n",
              " (10, 1): <gurobi.Constr *Awaiting Model Update*>,\n",
              " (10, 2): <gurobi.Constr *Awaiting Model Update*>,\n",
              " (11, 1): <gurobi.Constr *Awaiting Model Update*>,\n",
              " (11, 2): <gurobi.Constr *Awaiting Model Update*>,\n",
              " (12, 1): <gurobi.Constr *Awaiting Model Update*>,\n",
              " (12, 2): <gurobi.Constr *Awaiting Model Update*>,\n",
              " (13, 1): <gurobi.Constr *Awaiting Model Update*>,\n",
              " (13, 2): <gurobi.Constr *Awaiting Model Update*>,\n",
              " (14, 1): <gurobi.Constr *Awaiting Model Update*>,\n",
              " (14, 2): <gurobi.Constr *Awaiting Model Update*>,\n",
              " (15, 1): <gurobi.Constr *Awaiting Model Update*>,\n",
              " (15, 2): <gurobi.Constr *Awaiting Model Update*>,\n",
              " (16, 1): <gurobi.Constr *Awaiting Model Update*>,\n",
              " (16, 2): <gurobi.Constr *Awaiting Model Update*>,\n",
              " (17, 1): <gurobi.Constr *Awaiting Model Update*>,\n",
              " (17, 2): <gurobi.Constr *Awaiting Model Update*>,\n",
              " (18, 1): <gurobi.Constr *Awaiting Model Update*>,\n",
              " (18, 2): <gurobi.Constr *Awaiting Model Update*>,\n",
              " (19, 1): <gurobi.Constr *Awaiting Model Update*>,\n",
              " (19, 2): <gurobi.Constr *Awaiting Model Update*>,\n",
              " (20, 1): <gurobi.Constr *Awaiting Model Update*>,\n",
              " (20, 2): <gurobi.Constr *Awaiting Model Update*>,\n",
              " (21, 1): <gurobi.Constr *Awaiting Model Update*>,\n",
              " (21, 2): <gurobi.Constr *Awaiting Model Update*>,\n",
              " (22, 1): <gurobi.Constr *Awaiting Model Update*>,\n",
              " (22, 2): <gurobi.Constr *Awaiting Model Update*>,\n",
              " (23, 1): <gurobi.Constr *Awaiting Model Update*>,\n",
              " (23, 2): <gurobi.Constr *Awaiting Model Update*>,\n",
              " (24, 1): <gurobi.Constr *Awaiting Model Update*>,\n",
              " (24, 2): <gurobi.Constr *Awaiting Model Update*>,\n",
              " (25, 1): <gurobi.Constr *Awaiting Model Update*>,\n",
              " (25, 2): <gurobi.Constr *Awaiting Model Update*>,\n",
              " (26, 1): <gurobi.Constr *Awaiting Model Update*>,\n",
              " (26, 2): <gurobi.Constr *Awaiting Model Update*>,\n",
              " (27, 1): <gurobi.Constr *Awaiting Model Update*>,\n",
              " (27, 2): <gurobi.Constr *Awaiting Model Update*>,\n",
              " (28, 1): <gurobi.Constr *Awaiting Model Update*>,\n",
              " (28, 2): <gurobi.Constr *Awaiting Model Update*>,\n",
              " (29, 1): <gurobi.Constr *Awaiting Model Update*>,\n",
              " (29, 2): <gurobi.Constr *Awaiting Model Update*>,\n",
              " (30, 1): <gurobi.Constr *Awaiting Model Update*>,\n",
              " (30, 2): <gurobi.Constr *Awaiting Model Update*>,\n",
              " (31, 1): <gurobi.Constr *Awaiting Model Update*>,\n",
              " (31, 2): <gurobi.Constr *Awaiting Model Update*>,\n",
              " (32, 1): <gurobi.Constr *Awaiting Model Update*>,\n",
              " (32, 2): <gurobi.Constr *Awaiting Model Update*>,\n",
              " (33, 1): <gurobi.Constr *Awaiting Model Update*>,\n",
              " (33, 2): <gurobi.Constr *Awaiting Model Update*>,\n",
              " (34, 1): <gurobi.Constr *Awaiting Model Update*>,\n",
              " (34, 2): <gurobi.Constr *Awaiting Model Update*>,\n",
              " (35, 1): <gurobi.Constr *Awaiting Model Update*>,\n",
              " (35, 2): <gurobi.Constr *Awaiting Model Update*>,\n",
              " (36, 1): <gurobi.Constr *Awaiting Model Update*>,\n",
              " (36, 2): <gurobi.Constr *Awaiting Model Update*>}"
            ]
          },
          "metadata": {},
          "execution_count": 42
        }
      ]
    },
    {
      "cell_type": "code",
      "source": [
        "obj = 0\n",
        "\n",
        "for t in T:\n",
        "  for k in K:\n",
        "    obj += q[k,t]*(c[t]*Q[k,t] + h[t]*v[k,t] + s[t]*u[k,t])\n",
        "\n",
        "New_Model.setObjective(obj, GRB.MINIMIZE)\n",
        "New_Model.optimize()\n",
        "\n",
        "\n",
        "print('Obj: %g' % New_Model.ObjVal)\n",
        "print('Expected value:', New_Model.ObjVal/len(K))"
      ],
      "metadata": {
        "colab": {
          "base_uri": "https://localhost:8080/"
        },
        "id": "yhyht_VbvHx5",
        "outputId": "dbec4ab6-38aa-40ee-988f-c4b7f0cf4cb4"
      },
      "execution_count": 44,
      "outputs": [
        {
          "output_type": "stream",
          "name": "stdout",
          "text": [
            "Gurobi Optimizer version 10.0.0 build v10.0.0rc2 (linux64)\n",
            "\n",
            "CPU model: Intel(R) Xeon(R) CPU @ 2.20GHz, instruction set [SSE2|AVX|AVX2]\n",
            "Thread count: 1 physical cores, 2 logical processors, using up to 2 threads\n",
            "\n",
            "Academic license - for non-commercial use only - registered to isikder@uncc.edu\n",
            "Optimize a model with 252 rows, 428 columns and 612 nonzeros\n",
            "Model fingerprint: 0x939da928\n",
            "Variable types: 0 continuous, 428 integer (0 binary)\n",
            "Coefficient statistics:\n",
            "  Matrix range     [1e+00, 1e+00]\n",
            "  Objective range  [6e-01, 8e+01]\n",
            "  Bounds range     [0e+00, 0e+00]\n",
            "  RHS range        [8e+02, 1e+03]\n",
            "Found heuristic solution: objective 3557362.5000\n",
            "Presolve removed 240 rows and 415 columns\n",
            "Presolve time: 0.00s\n",
            "Presolved: 12 rows, 13 columns, 24 nonzeros\n",
            "Found heuristic solution: objective 990086.40000\n",
            "Variable types: 0 continuous, 13 integer (0 binary)\n",
            "Found heuristic solution: objective 989250.30000\n",
            "\n",
            "Root relaxation: objective 6.124725e+05, 8 iterations, 0.00 seconds (0.00 work units)\n",
            "\n",
            "    Nodes    |    Current Node    |     Objective Bounds      |     Work\n",
            " Expl Unexpl |  Obj  Depth IntInf | Incumbent    BestBd   Gap | It/Node Time\n",
            "\n",
            "*    0     0               0    612472.50000 612472.500  0.00%     -    0s\n",
            "\n",
            "Explored 1 nodes (8 simplex iterations) in 0.11 seconds (0.00 work units)\n",
            "Thread count was 2 (of 2 available processors)\n",
            "\n",
            "Solution count 4: 612472 989250 990086 3.55736e+06 \n",
            "\n",
            "Optimal solution found (tolerance 1.00e-04)\n",
            "Best objective 6.124725000000e+05, best bound 6.124725000000e+05, gap 0.0000%\n",
            "Obj: 612472\n",
            "Expected value: 17013.125\n"
          ]
        }
      ]
    },
    {
      "cell_type": "code",
      "source": [
        "for i in [1,2]:\n",
        "  for j in [0,1,2,3,4,5,6]:\n",
        "    print(i,j,Q_prime[i,j].X)"
      ],
      "metadata": {
        "colab": {
          "base_uri": "https://localhost:8080/"
        },
        "id": "zIN2WV2ExK9_",
        "outputId": "1ae88002-4532-46ac-9f74-0be266dc2a28"
      },
      "execution_count": 45,
      "outputs": [
        {
          "output_type": "stream",
          "name": "stdout",
          "text": [
            "1 0 1750.0\n",
            "1 1 -0.0\n",
            "1 2 -0.0\n",
            "1 3 -0.0\n",
            "1 4 -0.0\n",
            "1 5 -0.0\n",
            "1 6 -0.0\n",
            "2 0 -0.0\n",
            "2 1 0.0\n",
            "2 2 0.0\n",
            "2 3 150.0\n",
            "2 4 350.0\n",
            "2 5 550.0\n",
            "2 6 800.0\n"
          ]
        }
      ]
    },
    {
      "cell_type": "code",
      "source": [
        "for k in K:\n",
        "  for t in T:\n",
        "    print('scene:',k,'time:',t,Q[k,t].X,'+',v[k,t-1].X,'+',u[k,t].X,'-',v[k,t].X,'=',x[k,t])"
      ],
      "metadata": {
        "colab": {
          "base_uri": "https://localhost:8080/"
        },
        "id": "EwBK07E__8GJ",
        "outputId": "2191f19a-a7c4-4de6-b8dd-2ae007266ddb"
      },
      "execution_count": 47,
      "outputs": [
        {
          "output_type": "stream",
          "name": "stdout",
          "text": [
            "scene: 1 time: 1 1750.0 + 0.0 + 50.0 - 1000.0 = 800\n",
            "scene: 1 time: 2 0.0 + 1000.0 + 0.0 - 250.0 = 750\n",
            "scene: 2 time: 1 1750.0 + 0.0 + 0.0 - 1000.0 = 750\n",
            "scene: 2 time: 2 0.0 + 1000.0 + 0.0 - 250.0 = 750\n",
            "scene: 3 time: 1 1750.0 + 0.0 + 100.0 - 1050.0 = 800\n",
            "scene: 3 time: 2 0.0 + 1050.0 + 0.0 - 250.0 = 800\n",
            "scene: 4 time: 1 1750.0 + 0.0 + 50.0 - 1050.0 = 750\n",
            "scene: 4 time: 2 0.0 + 1050.0 + 0.0 - 250.0 = 800\n",
            "scene: 5 time: 1 1750.0 + 0.0 + 50.0 - 1050.0 = 750\n",
            "scene: 5 time: 2 0.0 + 1050.0 + -0.0 - 250.0 = 800\n",
            "scene: 6 time: 1 1750.0 + 0.0 + 100.0 - 1050.0 = 800\n",
            "scene: 6 time: 2 0.0 + 1050.0 + -0.0 - 250.0 = 800\n",
            "scene: 7 time: 1 1750.0 + 0.0 + 0.0 - 900.0 = 850\n",
            "scene: 7 time: 2 0.0 + 900.0 + 0.0 - 0.0 = 900\n",
            "scene: 8 time: 1 1750.0 + 0.0 + 0.0 - 850.0 = 900\n",
            "scene: 8 time: 2 0.0 + 850.0 + 0.0 - 0.0 = 850\n",
            "scene: 9 time: 1 1750.0 + 0.0 + 0.0 - 900.0 = 850\n",
            "scene: 9 time: 2 0.0 + 900.0 + 0.0 - 0.0 = 900\n",
            "scene: 10 time: 1 1750.0 + 0.0 + 50.0 - 900.0 = 900\n",
            "scene: 10 time: 2 0.0 + 900.0 + 0.0 - 0.0 = 900\n",
            "scene: 11 time: 1 1750.0 + 0.0 + 50.0 - 900.0 = 900\n",
            "scene: 11 time: 2 0.0 + 900.0 + -0.0 - -0.0 = 900\n",
            "scene: 12 time: 1 1750.0 + 0.0 + 0.0 - 850.0 = 900\n",
            "scene: 12 time: 2 0.0 + 850.0 + -0.0 - -0.0 = 850\n",
            "scene: 13 time: 1 1750.0 + 0.0 + 0.0 - 800.0 = 950\n",
            "scene: 13 time: 2 150.0 + 800.0 + 0.0 - 0.0 = 950\n",
            "scene: 14 time: 1 1750.0 + 0.0 + 50.0 - 850.0 = 950\n",
            "scene: 14 time: 2 150.0 + 850.0 + 0.0 - 0.0 = 1000\n",
            "scene: 15 time: 1 1750.0 + 0.0 + 0.0 - 800.0 = 950\n",
            "scene: 15 time: 2 150.0 + 800.0 + 0.0 - 0.0 = 950\n",
            "scene: 16 time: 1 1750.0 + 0.0 + 100.0 - 850.0 = 1000\n",
            "scene: 16 time: 2 150.0 + 850.0 + 0.0 - 0.0 = 1000\n",
            "scene: 17 time: 1 1750.0 + 0.0 + 50.0 - 800.0 = 1000\n",
            "scene: 17 time: 2 150.0 + 800.0 + -0.0 - -0.0 = 950\n",
            "scene: 18 time: 1 1750.0 + 0.0 + 0.0 - 800.0 = 950\n",
            "scene: 18 time: 2 150.0 + 800.0 + -0.0 - -0.0 = 950\n",
            "scene: 19 time: 1 1750.0 + 0.0 + 100.0 - 750.0 = 1100\n",
            "scene: 19 time: 2 350.0 + 750.0 + 0.0 - 0.0 = 1100\n",
            "scene: 20 time: 1 1750.0 + 0.0 + 50.0 - 750.0 = 1050\n",
            "scene: 20 time: 2 350.0 + 750.0 + 0.0 - 0.0 = 1100\n",
            "scene: 21 time: 1 1750.0 + 0.0 + 100.0 - 750.0 = 1100\n",
            "scene: 21 time: 2 350.0 + 750.0 + 0.0 - 0.0 = 1100\n",
            "scene: 22 time: 1 1750.0 + 0.0 + 0.0 - 700.0 = 1050\n",
            "scene: 22 time: 2 350.0 + 700.0 + 0.0 - 0.0 = 1050\n",
            "scene: 23 time: 1 1750.0 + 0.0 + 0.0 - 700.0 = 1050\n",
            "scene: 23 time: 2 350.0 + 700.0 + -0.0 - -0.0 = 1050\n",
            "scene: 24 time: 1 1750.0 + 0.0 + 50.0 - 700.0 = 1100\n",
            "scene: 24 time: 2 350.0 + 700.0 + -0.0 - -0.0 = 1050\n",
            "scene: 25 time: 1 1750.0 + 0.0 + 100.0 - 650.0 = 1200\n",
            "scene: 25 time: 2 550.0 + 650.0 + 0.0 - 0.0 = 1200\n",
            "scene: 26 time: 1 1750.0 + 0.0 + 100.0 - 650.0 = 1200\n",
            "scene: 26 time: 2 550.0 + 650.0 + 0.0 - 0.0 = 1200\n",
            "scene: 27 time: 1 1750.0 + 0.0 + 50.0 - 600.0 = 1200\n",
            "scene: 27 time: 2 550.0 + 600.0 + 0.0 - 0.0 = 1150\n",
            "scene: 28 time: 1 1750.0 + 0.0 + 100.0 - 650.0 = 1200\n",
            "scene: 28 time: 2 550.0 + 650.0 + 0.0 - 0.0 = 1200\n",
            "scene: 29 time: 1 1750.0 + 0.0 + 50.0 - 650.0 = 1150\n",
            "scene: 29 time: 2 550.0 + 650.0 + -0.0 - -0.0 = 1200\n",
            "scene: 30 time: 1 1750.0 + 0.0 + 0.0 - 600.0 = 1150\n",
            "scene: 30 time: 2 550.0 + 600.0 + -0.0 - -0.0 = 1150\n",
            "scene: 31 time: 1 1750.0 + 0.0 + 0.0 - 500.0 = 1250\n",
            "scene: 31 time: 2 800.0 + 500.0 + 0.0 - 0.0 = 1300\n",
            "scene: 32 time: 1 1750.0 + 0.0 + 0.0 - 500.0 = 1250\n",
            "scene: 32 time: 2 800.0 + 500.0 + 0.0 - 0.0 = 1300\n",
            "scene: 33 time: 1 1750.0 + 0.0 + 0.0 - 500.0 = 1250\n",
            "scene: 33 time: 2 800.0 + 500.0 + 0.0 - 0.0 = 1300\n",
            "scene: 34 time: 1 1750.0 + 0.0 + 0.0 - 450.0 = 1300\n",
            "scene: 34 time: 2 800.0 + 450.0 + 0.0 - 0.0 = 1250\n",
            "scene: 35 time: 1 1750.0 + 0.0 + 50.0 - 500.0 = 1300\n",
            "scene: 35 time: 2 800.0 + 500.0 + -0.0 - -0.0 = 1300\n",
            "scene: 36 time: 1 1750.0 + 0.0 + 0.0 - 500.0 = 1250\n",
            "scene: 36 time: 2 800.0 + 500.0 + -0.0 - -0.0 = 1300\n"
          ]
        }
      ]
    },
    {
      "cell_type": "code",
      "source": [],
      "metadata": {
        "id": "AETHz5Wxa-Y1"
      },
      "execution_count": null,
      "outputs": []
    }
  ]
}
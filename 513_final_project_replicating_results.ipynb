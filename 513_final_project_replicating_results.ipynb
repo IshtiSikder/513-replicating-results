{
  "nbformat": 4,
  "nbformat_minor": 0,
  "metadata": {
    "colab": {
      "provenance": [],
      "include_colab_link": true
    },
    "kernelspec": {
      "name": "python3",
      "display_name": "Python 3"
    },
    "language_info": {
      "name": "python"
    }
  },
  "cells": [
    {
      "cell_type": "markdown",
      "metadata": {
        "id": "view-in-github",
        "colab_type": "text"
      },
      "source": [
        "<a href=\"https://colab.research.google.com/github/IshtiSikder/513-replicating-results/blob/edit/513_final_project_replicating_results.ipynb\" target=\"_parent\"><img src=\"https://colab.research.google.com/assets/colab-badge.svg\" alt=\"Open In Colab\"/></a>"
      ]
    },
    {
      "cell_type": "code",
      "execution_count": 182,
      "metadata": {
        "colab": {
          "base_uri": "https://localhost:8080/"
        },
        "id": "FQcIdonUSA_7",
        "outputId": "e8d41f27-9a28-477f-e9e0-5e6549945e36"
      },
      "outputs": [
        {
          "output_type": "stream",
          "name": "stdout",
          "text": [
            "Looking in indexes: https://pypi.org/simple, https://us-python.pkg.dev/colab-wheels/public/simple/\n",
            "Requirement already satisfied: gurobipy in /usr/local/lib/python3.8/dist-packages (10.0.0)\n"
          ]
        }
      ],
      "source": [
        "#EDITS\n",
        "#Install gurobi\n",
        "!pip install gurobipy"
      ]
    },
    {
      "cell_type": "code",
      "source": [
        "#Import necessary libraries\n",
        "import sys\n",
        "import numpy as np\n",
        "import pandas as pd\n",
        "from numpy import linalg as la\n",
        "import gurobipy as gp\n",
        "from gurobipy import *"
      ],
      "metadata": {
        "id": "jzExF7GdSC_W"
      },
      "execution_count": 183,
      "outputs": []
    },
    {
      "cell_type": "code",
      "source": [
        "#Activate gurobi license (only if run on google colab)\n",
        "e = gp.Env(empty=True)\n",
        "e.setParam('WLSACCESSID', 'dcee8c55-6742-4816-bae1-a0742c8f71a9')\n",
        "e.setParam('WLSSECRET', '70f89e9f-2426-41b9-abe7-88c4b6090a45')\n",
        "e.setParam('LICENSEID',820825)\n",
        "e.start()"
      ],
      "metadata": {
        "colab": {
          "base_uri": "https://localhost:8080/"
        },
        "id": "JH-2qg-8SItd",
        "outputId": "05d3f1b9-b4d5-4020-a49f-86a86b77c96a"
      },
      "execution_count": 184,
      "outputs": [
        {
          "output_type": "stream",
          "name": "stdout",
          "text": [
            "Set parameter WLSAccessID\n",
            "Set parameter WLSSecret\n",
            "Set parameter LicenseID to value 820825\n",
            "Academic license - for non-commercial use only - registered to isikder@uncc.edu\n"
          ]
        },
        {
          "output_type": "execute_result",
          "data": {
            "text/plain": [
              "<gurobipy.Env, Parameter changes: WLSAccessID=(user-defined), WLSSecret=(user-defined), LicenseID=820825>"
            ]
          },
          "metadata": {},
          "execution_count": 184
        }
      ]
    },
    {
      "cell_type": "code",
      "source": [
        "#Setup the optimization model\n",
        "New_Model = gp.Model(\"New Model\",env=e) "
      ],
      "metadata": {
        "id": "BkGZ5C8fSMVV"
      },
      "execution_count": 185,
      "outputs": []
    },
    {
      "cell_type": "code",
      "source": [
        "data = pd.DataFrame({'pre-demand':[100,150,0,0,0,0],'pre-demand prob':[0.5,0.5,0,0,0,0],'demand':[650,750,850,950,1050,1150],'demand prob':[0.17,0.27,0.23,0.17,0.12,0.04]})\n",
        "data"
      ],
      "metadata": {
        "colab": {
          "base_uri": "https://localhost:8080/",
          "height": 238
        },
        "id": "q74WMxR3lxaa",
        "outputId": "3b933219-6ec8-4ac5-e9a7-2012cf7b2513"
      },
      "execution_count": 186,
      "outputs": [
        {
          "output_type": "execute_result",
          "data": {
            "text/plain": [
              "   pre-demand  pre-demand prob  demand  demand prob\n",
              "0         100              0.5     650         0.17\n",
              "1         150              0.5     750         0.27\n",
              "2           0              0.0     850         0.23\n",
              "3           0              0.0     950         0.17\n",
              "4           0              0.0    1050         0.12\n",
              "5           0              0.0    1150         0.04"
            ],
            "text/html": [
              "\n",
              "  <div id=\"df-d8eb74cc-abd6-4942-b30c-510b9d4ec765\">\n",
              "    <div class=\"colab-df-container\">\n",
              "      <div>\n",
              "<style scoped>\n",
              "    .dataframe tbody tr th:only-of-type {\n",
              "        vertical-align: middle;\n",
              "    }\n",
              "\n",
              "    .dataframe tbody tr th {\n",
              "        vertical-align: top;\n",
              "    }\n",
              "\n",
              "    .dataframe thead th {\n",
              "        text-align: right;\n",
              "    }\n",
              "</style>\n",
              "<table border=\"1\" class=\"dataframe\">\n",
              "  <thead>\n",
              "    <tr style=\"text-align: right;\">\n",
              "      <th></th>\n",
              "      <th>pre-demand</th>\n",
              "      <th>pre-demand prob</th>\n",
              "      <th>demand</th>\n",
              "      <th>demand prob</th>\n",
              "    </tr>\n",
              "  </thead>\n",
              "  <tbody>\n",
              "    <tr>\n",
              "      <th>0</th>\n",
              "      <td>100</td>\n",
              "      <td>0.5</td>\n",
              "      <td>650</td>\n",
              "      <td>0.17</td>\n",
              "    </tr>\n",
              "    <tr>\n",
              "      <th>1</th>\n",
              "      <td>150</td>\n",
              "      <td>0.5</td>\n",
              "      <td>750</td>\n",
              "      <td>0.27</td>\n",
              "    </tr>\n",
              "    <tr>\n",
              "      <th>2</th>\n",
              "      <td>0</td>\n",
              "      <td>0.0</td>\n",
              "      <td>850</td>\n",
              "      <td>0.23</td>\n",
              "    </tr>\n",
              "    <tr>\n",
              "      <th>3</th>\n",
              "      <td>0</td>\n",
              "      <td>0.0</td>\n",
              "      <td>950</td>\n",
              "      <td>0.17</td>\n",
              "    </tr>\n",
              "    <tr>\n",
              "      <th>4</th>\n",
              "      <td>0</td>\n",
              "      <td>0.0</td>\n",
              "      <td>1050</td>\n",
              "      <td>0.12</td>\n",
              "    </tr>\n",
              "    <tr>\n",
              "      <th>5</th>\n",
              "      <td>0</td>\n",
              "      <td>0.0</td>\n",
              "      <td>1150</td>\n",
              "      <td>0.04</td>\n",
              "    </tr>\n",
              "  </tbody>\n",
              "</table>\n",
              "</div>\n",
              "      <button class=\"colab-df-convert\" onclick=\"convertToInteractive('df-d8eb74cc-abd6-4942-b30c-510b9d4ec765')\"\n",
              "              title=\"Convert this dataframe to an interactive table.\"\n",
              "              style=\"display:none;\">\n",
              "        \n",
              "  <svg xmlns=\"http://www.w3.org/2000/svg\" height=\"24px\"viewBox=\"0 0 24 24\"\n",
              "       width=\"24px\">\n",
              "    <path d=\"M0 0h24v24H0V0z\" fill=\"none\"/>\n",
              "    <path d=\"M18.56 5.44l.94 2.06.94-2.06 2.06-.94-2.06-.94-.94-2.06-.94 2.06-2.06.94zm-11 1L8.5 8.5l.94-2.06 2.06-.94-2.06-.94L8.5 2.5l-.94 2.06-2.06.94zm10 10l.94 2.06.94-2.06 2.06-.94-2.06-.94-.94-2.06-.94 2.06-2.06.94z\"/><path d=\"M17.41 7.96l-1.37-1.37c-.4-.4-.92-.59-1.43-.59-.52 0-1.04.2-1.43.59L10.3 9.45l-7.72 7.72c-.78.78-.78 2.05 0 2.83L4 21.41c.39.39.9.59 1.41.59.51 0 1.02-.2 1.41-.59l7.78-7.78 2.81-2.81c.8-.78.8-2.07 0-2.86zM5.41 20L4 18.59l7.72-7.72 1.47 1.35L5.41 20z\"/>\n",
              "  </svg>\n",
              "      </button>\n",
              "      \n",
              "  <style>\n",
              "    .colab-df-container {\n",
              "      display:flex;\n",
              "      flex-wrap:wrap;\n",
              "      gap: 12px;\n",
              "    }\n",
              "\n",
              "    .colab-df-convert {\n",
              "      background-color: #E8F0FE;\n",
              "      border: none;\n",
              "      border-radius: 50%;\n",
              "      cursor: pointer;\n",
              "      display: none;\n",
              "      fill: #1967D2;\n",
              "      height: 32px;\n",
              "      padding: 0 0 0 0;\n",
              "      width: 32px;\n",
              "    }\n",
              "\n",
              "    .colab-df-convert:hover {\n",
              "      background-color: #E2EBFA;\n",
              "      box-shadow: 0px 1px 2px rgba(60, 64, 67, 0.3), 0px 1px 3px 1px rgba(60, 64, 67, 0.15);\n",
              "      fill: #174EA6;\n",
              "    }\n",
              "\n",
              "    [theme=dark] .colab-df-convert {\n",
              "      background-color: #3B4455;\n",
              "      fill: #D2E3FC;\n",
              "    }\n",
              "\n",
              "    [theme=dark] .colab-df-convert:hover {\n",
              "      background-color: #434B5C;\n",
              "      box-shadow: 0px 1px 3px 1px rgba(0, 0, 0, 0.15);\n",
              "      filter: drop-shadow(0px 1px 2px rgba(0, 0, 0, 0.3));\n",
              "      fill: #FFFFFF;\n",
              "    }\n",
              "  </style>\n",
              "\n",
              "      <script>\n",
              "        const buttonEl =\n",
              "          document.querySelector('#df-d8eb74cc-abd6-4942-b30c-510b9d4ec765 button.colab-df-convert');\n",
              "        buttonEl.style.display =\n",
              "          google.colab.kernel.accessAllowed ? 'block' : 'none';\n",
              "\n",
              "        async function convertToInteractive(key) {\n",
              "          const element = document.querySelector('#df-d8eb74cc-abd6-4942-b30c-510b9d4ec765');\n",
              "          const dataTable =\n",
              "            await google.colab.kernel.invokeFunction('convertToInteractive',\n",
              "                                                     [key], {});\n",
              "          if (!dataTable) return;\n",
              "\n",
              "          const docLinkHtml = 'Like what you see? Visit the ' +\n",
              "            '<a target=\"_blank\" href=https://colab.research.google.com/notebooks/data_table.ipynb>data table notebook</a>'\n",
              "            + ' to learn more about interactive tables.';\n",
              "          element.innerHTML = '';\n",
              "          dataTable['output_type'] = 'display_data';\n",
              "          await google.colab.output.renderOutput(dataTable, element);\n",
              "          const docLink = document.createElement('div');\n",
              "          docLink.innerHTML = docLinkHtml;\n",
              "          element.appendChild(docLink);\n",
              "        }\n",
              "      </script>\n",
              "    </div>\n",
              "  </div>\n",
              "  "
            ]
          },
          "metadata": {},
          "execution_count": 186
        }
      ]
    },
    {
      "cell_type": "code",
      "source": [
        "K = range(1,101)\n",
        "T = [1,2]"
      ],
      "metadata": {
        "id": "rq5vPXCGTxLX"
      },
      "execution_count": 187,
      "outputs": []
    },
    {
      "cell_type": "code",
      "source": [
        "Q = New_Model.addVars(K,T,lb=0,vtype=GRB.INTEGER)\n",
        "v = New_Model.addVars(K,[0,1,2],lb=0,vtype=GRB.INTEGER)\n",
        "u = New_Model.addVars(K,T,lb=0,vtype=GRB.INTEGER)\n",
        "x = New_Model.addVars(K,T,lb=0,vtype=GRB.INTEGER)\n",
        "q = New_Model.addVars(K,lb=0,vtype=GRB.INTEGER)\n",
        "c = New_Model.addVars(T,lb=0,vtype=GRB.INTEGER)\n",
        "h = New_Model.addVars(T,lb=0,vtype=GRB.INTEGER)\n",
        "s = New_Model.addVars(T,lb=0,vtype=GRB.INTEGER)"
      ],
      "metadata": {
        "id": "5eygADrhSaWn"
      },
      "execution_count": 188,
      "outputs": []
    },
    {
      "cell_type": "code",
      "source": [
        "'''\n",
        "\n",
        "for k in K:\n",
        "  for t in T:\n",
        "      if 1<=k<=6:\n",
        "        x[k,t]=data['demand'][0] + np.random.choice(list(data['pre-demand'])[:2], 1, list(data['pre-demand prob'])[:2])[0]\n",
        "        q[k,t]=data['demand prob'][0]\n",
        "      elif 7<=k<=12:\n",
        "        x[k,t]=data['demand'][1] + np.random.choice(list(data['pre-demand'])[:2], 1, list(data['pre-demand prob'])[:2])[0]\n",
        "        q[k,t]=data['demand prob'][1]\n",
        "      elif 13<=k<=18:\n",
        "        x[k,t]=data['demand'][2] + np.random.choice(list(data['pre-demand'])[:2], 1, list(data['pre-demand prob'])[:2])[0]\n",
        "        q[k,t]=data['demand prob'][2]\n",
        "      elif 19<=k<=24:\n",
        "        x[k,t]=data['demand'][3] + np.random.choice(list(data['pre-demand'])[:2], 1, list(data['pre-demand prob'])[:2])[0]\n",
        "        q[k,t]=data['demand prob'][3]\n",
        "      elif 25<=k<=30:\n",
        "        x[k,t]=data['demand'][4] + np.random.choice(list(data['pre-demand'])[:2], 1, list(data['pre-demand prob'])[:2])[0]\n",
        "        q[k,t]=data['demand prob'][4]\n",
        "      else:\n",
        "        x[k,t]=data['demand'][5] + np.random.choice(list(data['pre-demand'])[:2], 1, list(data['pre-demand prob'])[:2])[0]\n",
        "        q[k,t]=data['demand prob'][5]\n",
        "'''  "
      ],
      "metadata": {
        "colab": {
          "base_uri": "https://localhost:8080/",
          "height": 143
        },
        "id": "O7iSXbLIV_0J",
        "outputId": "cf741fff-198a-4861-b0ab-c298176738cf"
      },
      "execution_count": 189,
      "outputs": [
        {
          "output_type": "execute_result",
          "data": {
            "text/plain": [
              "\"\\n\\nfor k in K:\\n  for t in T:\\n      if 1<=k<=6:\\n        x[k,t]=data['demand'][0] + np.random.choice(list(data['pre-demand'])[:2], 1, list(data['pre-demand prob'])[:2])[0]\\n        q[k,t]=data['demand prob'][0]\\n      elif 7<=k<=12:\\n        x[k,t]=data['demand'][1] + np.random.choice(list(data['pre-demand'])[:2], 1, list(data['pre-demand prob'])[:2])[0]\\n        q[k,t]=data['demand prob'][1]\\n      elif 13<=k<=18:\\n        x[k,t]=data['demand'][2] + np.random.choice(list(data['pre-demand'])[:2], 1, list(data['pre-demand prob'])[:2])[0]\\n        q[k,t]=data['demand prob'][2]\\n      elif 19<=k<=24:\\n        x[k,t]=data['demand'][3] + np.random.choice(list(data['pre-demand'])[:2], 1, list(data['pre-demand prob'])[:2])[0]\\n        q[k,t]=data['demand prob'][3]\\n      elif 25<=k<=30:\\n        x[k,t]=data['demand'][4] + np.random.choice(list(data['pre-demand'])[:2], 1, list(data['pre-demand prob'])[:2])[0]\\n        q[k,t]=data['demand prob'][4]\\n      else:\\n        x[k,t]=data['demand'][5] + np.random.choice(list(data['pre-demand'])[:2], 1, list(data['pre-demand prob'])[:2])[0]\\n        q[k,t]=data['demand prob'][5]\\n\""
            ],
            "application/vnd.google.colaboratory.intrinsic+json": {
              "type": "string"
            }
          },
          "metadata": {},
          "execution_count": 189
        }
      ]
    },
    {
      "cell_type": "code",
      "source": [
        "Q_prime = New_Model.addVars([1,2],[0,1,2,3,4,5,6],lb=0,vtype=GRB.INTEGER)\n",
        "u_prime = New_Model.addVars([2],[1,2,3,4,5,6],lb=0,vtype=GRB.INTEGER)\n",
        "v_prime = New_Model.addVars([2],[1,2,3,4,5,6],lb=0,vtype=GRB.INTEGER)"
      ],
      "metadata": {
        "id": "FKui9Bc-sqgl"
      },
      "execution_count": 190,
      "outputs": []
    },
    {
      "cell_type": "code",
      "source": [
        "#bin = New_Model.addVars(K,[0,1,2],vtype=GRB.BINARY)"
      ],
      "metadata": {
        "id": "o6JQKnvip4uB"
      },
      "execution_count": 191,
      "outputs": []
    },
    {
      "cell_type": "code",
      "source": [
        "c[1] = 30\n",
        "c[2] = 4*c[1]\n",
        "s[1] = 300\n",
        "s[2] = s[1]\n",
        "\n",
        "for t in T:\n",
        "  h[t] = c[t]/2"
      ],
      "metadata": {
        "id": "qJfyqt6mtg9M"
      },
      "execution_count": 192,
      "outputs": []
    },
    {
      "cell_type": "code",
      "source": [
        "for k in K:\n",
        "  hur_dem = np.random.choice(list(data['demand']), 1, list(data['demand prob']))[0]\n",
        "  q[k] = data.loc[data.index[data['demand']==hur_dem].tolist()[0],'demand prob']\n",
        "  for t in T:\n",
        "    #if t == 1:\n",
        "    x[k,t] = np.random.choice(list(data['pre-demand'])[:2], 1, list(data['pre-demand prob'])[:2])[0] + hur_dem/2\n",
        "'''\n",
        "    else:\n",
        "      x[k,t] = np.random.choice(list(data['pre-demand'])[:2], 1, list(data['pre-demand prob'])[:2])[0] \n",
        "'''"
      ],
      "metadata": {
        "id": "PufrQwSWTpaG",
        "colab": {
          "base_uri": "https://localhost:8080/",
          "height": 35
        },
        "outputId": "1cb1c501-e7a2-4b80-85bd-0ccecc011f52"
      },
      "execution_count": 193,
      "outputs": [
        {
          "output_type": "execute_result",
          "data": {
            "text/plain": [
              "\"\\n    else:\\n      x[k,t] = np.random.choice(list(data['pre-demand'])[:2], 1, list(data['pre-demand prob'])[:2])[0] \\n\""
            ],
            "application/vnd.google.colaboratory.intrinsic+json": {
              "type": "string"
            }
          },
          "metadata": {},
          "execution_count": 193
        }
      ]
    },
    {
      "cell_type": "code",
      "source": [
        "New_Model.addConstrs(v[k,0]==0 for k in K)\n",
        "#New_Model.addConstrs(bin[k,0]==0 for k in K)\n",
        "#New_Model.addConstrs(bin[k,2]== bin[k,1]for k in K)"
      ],
      "metadata": {
        "colab": {
          "base_uri": "https://localhost:8080/"
        },
        "id": "IYk5A2T6Wqnv",
        "outputId": "5836c88a-32b3-4386-c32f-f70b514ddeda"
      },
      "execution_count": 194,
      "outputs": [
        {
          "output_type": "execute_result",
          "data": {
            "text/plain": [
              "{1: <gurobi.Constr *Awaiting Model Update*>,\n",
              " 2: <gurobi.Constr *Awaiting Model Update*>,\n",
              " 3: <gurobi.Constr *Awaiting Model Update*>,\n",
              " 4: <gurobi.Constr *Awaiting Model Update*>,\n",
              " 5: <gurobi.Constr *Awaiting Model Update*>,\n",
              " 6: <gurobi.Constr *Awaiting Model Update*>,\n",
              " 7: <gurobi.Constr *Awaiting Model Update*>,\n",
              " 8: <gurobi.Constr *Awaiting Model Update*>,\n",
              " 9: <gurobi.Constr *Awaiting Model Update*>,\n",
              " 10: <gurobi.Constr *Awaiting Model Update*>,\n",
              " 11: <gurobi.Constr *Awaiting Model Update*>,\n",
              " 12: <gurobi.Constr *Awaiting Model Update*>,\n",
              " 13: <gurobi.Constr *Awaiting Model Update*>,\n",
              " 14: <gurobi.Constr *Awaiting Model Update*>,\n",
              " 15: <gurobi.Constr *Awaiting Model Update*>,\n",
              " 16: <gurobi.Constr *Awaiting Model Update*>,\n",
              " 17: <gurobi.Constr *Awaiting Model Update*>,\n",
              " 18: <gurobi.Constr *Awaiting Model Update*>,\n",
              " 19: <gurobi.Constr *Awaiting Model Update*>,\n",
              " 20: <gurobi.Constr *Awaiting Model Update*>,\n",
              " 21: <gurobi.Constr *Awaiting Model Update*>,\n",
              " 22: <gurobi.Constr *Awaiting Model Update*>,\n",
              " 23: <gurobi.Constr *Awaiting Model Update*>,\n",
              " 24: <gurobi.Constr *Awaiting Model Update*>,\n",
              " 25: <gurobi.Constr *Awaiting Model Update*>,\n",
              " 26: <gurobi.Constr *Awaiting Model Update*>,\n",
              " 27: <gurobi.Constr *Awaiting Model Update*>,\n",
              " 28: <gurobi.Constr *Awaiting Model Update*>,\n",
              " 29: <gurobi.Constr *Awaiting Model Update*>,\n",
              " 30: <gurobi.Constr *Awaiting Model Update*>,\n",
              " 31: <gurobi.Constr *Awaiting Model Update*>,\n",
              " 32: <gurobi.Constr *Awaiting Model Update*>,\n",
              " 33: <gurobi.Constr *Awaiting Model Update*>,\n",
              " 34: <gurobi.Constr *Awaiting Model Update*>,\n",
              " 35: <gurobi.Constr *Awaiting Model Update*>,\n",
              " 36: <gurobi.Constr *Awaiting Model Update*>,\n",
              " 37: <gurobi.Constr *Awaiting Model Update*>,\n",
              " 38: <gurobi.Constr *Awaiting Model Update*>,\n",
              " 39: <gurobi.Constr *Awaiting Model Update*>,\n",
              " 40: <gurobi.Constr *Awaiting Model Update*>,\n",
              " 41: <gurobi.Constr *Awaiting Model Update*>,\n",
              " 42: <gurobi.Constr *Awaiting Model Update*>,\n",
              " 43: <gurobi.Constr *Awaiting Model Update*>,\n",
              " 44: <gurobi.Constr *Awaiting Model Update*>,\n",
              " 45: <gurobi.Constr *Awaiting Model Update*>,\n",
              " 46: <gurobi.Constr *Awaiting Model Update*>,\n",
              " 47: <gurobi.Constr *Awaiting Model Update*>,\n",
              " 48: <gurobi.Constr *Awaiting Model Update*>,\n",
              " 49: <gurobi.Constr *Awaiting Model Update*>,\n",
              " 50: <gurobi.Constr *Awaiting Model Update*>,\n",
              " 51: <gurobi.Constr *Awaiting Model Update*>,\n",
              " 52: <gurobi.Constr *Awaiting Model Update*>,\n",
              " 53: <gurobi.Constr *Awaiting Model Update*>,\n",
              " 54: <gurobi.Constr *Awaiting Model Update*>,\n",
              " 55: <gurobi.Constr *Awaiting Model Update*>,\n",
              " 56: <gurobi.Constr *Awaiting Model Update*>,\n",
              " 57: <gurobi.Constr *Awaiting Model Update*>,\n",
              " 58: <gurobi.Constr *Awaiting Model Update*>,\n",
              " 59: <gurobi.Constr *Awaiting Model Update*>,\n",
              " 60: <gurobi.Constr *Awaiting Model Update*>,\n",
              " 61: <gurobi.Constr *Awaiting Model Update*>,\n",
              " 62: <gurobi.Constr *Awaiting Model Update*>,\n",
              " 63: <gurobi.Constr *Awaiting Model Update*>,\n",
              " 64: <gurobi.Constr *Awaiting Model Update*>,\n",
              " 65: <gurobi.Constr *Awaiting Model Update*>,\n",
              " 66: <gurobi.Constr *Awaiting Model Update*>,\n",
              " 67: <gurobi.Constr *Awaiting Model Update*>,\n",
              " 68: <gurobi.Constr *Awaiting Model Update*>,\n",
              " 69: <gurobi.Constr *Awaiting Model Update*>,\n",
              " 70: <gurobi.Constr *Awaiting Model Update*>,\n",
              " 71: <gurobi.Constr *Awaiting Model Update*>,\n",
              " 72: <gurobi.Constr *Awaiting Model Update*>,\n",
              " 73: <gurobi.Constr *Awaiting Model Update*>,\n",
              " 74: <gurobi.Constr *Awaiting Model Update*>,\n",
              " 75: <gurobi.Constr *Awaiting Model Update*>,\n",
              " 76: <gurobi.Constr *Awaiting Model Update*>,\n",
              " 77: <gurobi.Constr *Awaiting Model Update*>,\n",
              " 78: <gurobi.Constr *Awaiting Model Update*>,\n",
              " 79: <gurobi.Constr *Awaiting Model Update*>,\n",
              " 80: <gurobi.Constr *Awaiting Model Update*>,\n",
              " 81: <gurobi.Constr *Awaiting Model Update*>,\n",
              " 82: <gurobi.Constr *Awaiting Model Update*>,\n",
              " 83: <gurobi.Constr *Awaiting Model Update*>,\n",
              " 84: <gurobi.Constr *Awaiting Model Update*>,\n",
              " 85: <gurobi.Constr *Awaiting Model Update*>,\n",
              " 86: <gurobi.Constr *Awaiting Model Update*>,\n",
              " 87: <gurobi.Constr *Awaiting Model Update*>,\n",
              " 88: <gurobi.Constr *Awaiting Model Update*>,\n",
              " 89: <gurobi.Constr *Awaiting Model Update*>,\n",
              " 90: <gurobi.Constr *Awaiting Model Update*>,\n",
              " 91: <gurobi.Constr *Awaiting Model Update*>,\n",
              " 92: <gurobi.Constr *Awaiting Model Update*>,\n",
              " 93: <gurobi.Constr *Awaiting Model Update*>,\n",
              " 94: <gurobi.Constr *Awaiting Model Update*>,\n",
              " 95: <gurobi.Constr *Awaiting Model Update*>,\n",
              " 96: <gurobi.Constr *Awaiting Model Update*>,\n",
              " 97: <gurobi.Constr *Awaiting Model Update*>,\n",
              " 98: <gurobi.Constr *Awaiting Model Update*>,\n",
              " 99: <gurobi.Constr *Awaiting Model Update*>,\n",
              " 100: <gurobi.Constr *Awaiting Model Update*>}"
            ]
          },
          "metadata": {},
          "execution_count": 194
        }
      ]
    },
    {
      "cell_type": "code",
      "source": [
        "New_Model.addConstrs(Q[k,1] == Q_prime[1,0] for k in K)\n",
        "\n",
        "'''\n",
        "New_Model.addConstrs(Q[k,2] == Q_prime[2,1] for k in K[:6])\n",
        "New_Model.addConstrs(Q[k,2] == Q_prime[2,2] for k in K[6:12])\n",
        "New_Model.addConstrs(Q[k,2] == Q_prime[2,3] for k in K[12:18])\n",
        "New_Model.addConstrs(Q[k,2] == Q_prime[2,4] for k in K[18:24])\n",
        "New_Model.addConstrs(Q[k,2] == Q_prime[2,5] for k in K[24:30])\n",
        "New_Model.addConstrs(Q[k,2] == Q_prime[2,6] for k in K[30:36])\n",
        "'''"
      ],
      "metadata": {
        "id": "2i4kcnSIU9QQ",
        "colab": {
          "base_uri": "https://localhost:8080/",
          "height": 71
        },
        "outputId": "18ff01de-e9c3-4879-b18a-06441dbcb3db"
      },
      "execution_count": 195,
      "outputs": [
        {
          "output_type": "execute_result",
          "data": {
            "text/plain": [
              "'\\nNew_Model.addConstrs(Q[k,2] == Q_prime[2,1] for k in K[:6])\\nNew_Model.addConstrs(Q[k,2] == Q_prime[2,2] for k in K[6:12])\\nNew_Model.addConstrs(Q[k,2] == Q_prime[2,3] for k in K[12:18])\\nNew_Model.addConstrs(Q[k,2] == Q_prime[2,4] for k in K[18:24])\\nNew_Model.addConstrs(Q[k,2] == Q_prime[2,5] for k in K[24:30])\\nNew_Model.addConstrs(Q[k,2] == Q_prime[2,6] for k in K[30:36])\\n'"
            ],
            "application/vnd.google.colaboratory.intrinsic+json": {
              "type": "string"
            }
          },
          "metadata": {},
          "execution_count": 195
        }
      ]
    },
    {
      "cell_type": "code",
      "source": [
        "'''\n",
        "New_Model.addConstrs(u[k,2] == u_prime[2,1] for k in K[:6])\n",
        "New_Model.addConstrs(u[k,2] == u_prime[2,2] for k in K[6:12])\n",
        "New_Model.addConstrs(u[k,2] == u_prime[2,3] for k in K[12:18])\n",
        "New_Model.addConstrs(u[k,2] == u_prime[2,4] for k in K[18:24])\n",
        "New_Model.addConstrs(u[k,2] == u_prime[2,5] for k in K[24:30])\n",
        "New_Model.addConstrs(u[k,2] == u_prime[2,6] for k in K[30:36])\n",
        "'''"
      ],
      "metadata": {
        "colab": {
          "base_uri": "https://localhost:8080/",
          "height": 71
        },
        "id": "8r0AI8j9MZnD",
        "outputId": "6f7456ee-3a0d-42c7-c552-bdc220f13195"
      },
      "execution_count": 196,
      "outputs": [
        {
          "output_type": "execute_result",
          "data": {
            "text/plain": [
              "'\\nNew_Model.addConstrs(u[k,2] == u_prime[2,1] for k in K[:6])\\nNew_Model.addConstrs(u[k,2] == u_prime[2,2] for k in K[6:12])\\nNew_Model.addConstrs(u[k,2] == u_prime[2,3] for k in K[12:18])\\nNew_Model.addConstrs(u[k,2] == u_prime[2,4] for k in K[18:24])\\nNew_Model.addConstrs(u[k,2] == u_prime[2,5] for k in K[24:30])\\nNew_Model.addConstrs(u[k,2] == u_prime[2,6] for k in K[30:36])\\n'"
            ],
            "application/vnd.google.colaboratory.intrinsic+json": {
              "type": "string"
            }
          },
          "metadata": {},
          "execution_count": 196
        }
      ]
    },
    {
      "cell_type": "code",
      "source": [
        "'''\n",
        "New_Model.addConstrs(v[k,2] == v_prime[2,1] for k in K[:6])\n",
        "New_Model.addConstrs(v[k,2] == v_prime[2,2] for k in K[6:12])\n",
        "New_Model.addConstrs(v[k,2] == v_prime[2,3] for k in K[12:18])\n",
        "New_Model.addConstrs(v[k,2] == v_prime[2,4] for k in K[18:24])\n",
        "New_Model.addConstrs(v[k,2] == v_prime[2,5] for k in K[24:30])\n",
        "New_Model.addConstrs(v[k,2] == v_prime[2,6] for k in K[30:36])\n",
        "'''"
      ],
      "metadata": {
        "colab": {
          "base_uri": "https://localhost:8080/",
          "height": 71
        },
        "id": "Qx2aCt9JM6Q3",
        "outputId": "4dd0b4ec-9289-4007-86a9-4eff6df302d6"
      },
      "execution_count": 197,
      "outputs": [
        {
          "output_type": "execute_result",
          "data": {
            "text/plain": [
              "'\\nNew_Model.addConstrs(v[k,2] == v_prime[2,1] for k in K[:6])\\nNew_Model.addConstrs(v[k,2] == v_prime[2,2] for k in K[6:12])\\nNew_Model.addConstrs(v[k,2] == v_prime[2,3] for k in K[12:18])\\nNew_Model.addConstrs(v[k,2] == v_prime[2,4] for k in K[18:24])\\nNew_Model.addConstrs(v[k,2] == v_prime[2,5] for k in K[24:30])\\nNew_Model.addConstrs(v[k,2] == v_prime[2,6] for k in K[30:36])\\n'"
            ],
            "application/vnd.google.colaboratory.intrinsic+json": {
              "type": "string"
            }
          },
          "metadata": {},
          "execution_count": 197
        }
      ]
    },
    {
      "cell_type": "code",
      "source": [
        "#New_Model.addConstrs(Q[k,t]+bin[k,t-1]*v[k,t-1]+(1-bin[k,t])*u[k,t]-bin[k,t]*v[k,t] == x[k,t] for k in K for t in T)"
      ],
      "metadata": {
        "id": "4fYML5bGPQ9_"
      },
      "execution_count": 198,
      "outputs": []
    },
    {
      "cell_type": "code",
      "source": [
        "New_Model.addConstrs(Q[k,t]+v[k,t-1]+u[k,t]-v[k,t] == x[k,t] for k in K for t in T)"
      ],
      "metadata": {
        "colab": {
          "base_uri": "https://localhost:8080/"
        },
        "id": "SyqHU-BA_t2F",
        "outputId": "4dab6d14-e016-4ec2-a43e-22b50886052a"
      },
      "execution_count": 199,
      "outputs": [
        {
          "output_type": "execute_result",
          "data": {
            "text/plain": [
              "{(1, 1): <gurobi.Constr *Awaiting Model Update*>,\n",
              " (1, 2): <gurobi.Constr *Awaiting Model Update*>,\n",
              " (2, 1): <gurobi.Constr *Awaiting Model Update*>,\n",
              " (2, 2): <gurobi.Constr *Awaiting Model Update*>,\n",
              " (3, 1): <gurobi.Constr *Awaiting Model Update*>,\n",
              " (3, 2): <gurobi.Constr *Awaiting Model Update*>,\n",
              " (4, 1): <gurobi.Constr *Awaiting Model Update*>,\n",
              " (4, 2): <gurobi.Constr *Awaiting Model Update*>,\n",
              " (5, 1): <gurobi.Constr *Awaiting Model Update*>,\n",
              " (5, 2): <gurobi.Constr *Awaiting Model Update*>,\n",
              " (6, 1): <gurobi.Constr *Awaiting Model Update*>,\n",
              " (6, 2): <gurobi.Constr *Awaiting Model Update*>,\n",
              " (7, 1): <gurobi.Constr *Awaiting Model Update*>,\n",
              " (7, 2): <gurobi.Constr *Awaiting Model Update*>,\n",
              " (8, 1): <gurobi.Constr *Awaiting Model Update*>,\n",
              " (8, 2): <gurobi.Constr *Awaiting Model Update*>,\n",
              " (9, 1): <gurobi.Constr *Awaiting Model Update*>,\n",
              " (9, 2): <gurobi.Constr *Awaiting Model Update*>,\n",
              " (10, 1): <gurobi.Constr *Awaiting Model Update*>,\n",
              " (10, 2): <gurobi.Constr *Awaiting Model Update*>,\n",
              " (11, 1): <gurobi.Constr *Awaiting Model Update*>,\n",
              " (11, 2): <gurobi.Constr *Awaiting Model Update*>,\n",
              " (12, 1): <gurobi.Constr *Awaiting Model Update*>,\n",
              " (12, 2): <gurobi.Constr *Awaiting Model Update*>,\n",
              " (13, 1): <gurobi.Constr *Awaiting Model Update*>,\n",
              " (13, 2): <gurobi.Constr *Awaiting Model Update*>,\n",
              " (14, 1): <gurobi.Constr *Awaiting Model Update*>,\n",
              " (14, 2): <gurobi.Constr *Awaiting Model Update*>,\n",
              " (15, 1): <gurobi.Constr *Awaiting Model Update*>,\n",
              " (15, 2): <gurobi.Constr *Awaiting Model Update*>,\n",
              " (16, 1): <gurobi.Constr *Awaiting Model Update*>,\n",
              " (16, 2): <gurobi.Constr *Awaiting Model Update*>,\n",
              " (17, 1): <gurobi.Constr *Awaiting Model Update*>,\n",
              " (17, 2): <gurobi.Constr *Awaiting Model Update*>,\n",
              " (18, 1): <gurobi.Constr *Awaiting Model Update*>,\n",
              " (18, 2): <gurobi.Constr *Awaiting Model Update*>,\n",
              " (19, 1): <gurobi.Constr *Awaiting Model Update*>,\n",
              " (19, 2): <gurobi.Constr *Awaiting Model Update*>,\n",
              " (20, 1): <gurobi.Constr *Awaiting Model Update*>,\n",
              " (20, 2): <gurobi.Constr *Awaiting Model Update*>,\n",
              " (21, 1): <gurobi.Constr *Awaiting Model Update*>,\n",
              " (21, 2): <gurobi.Constr *Awaiting Model Update*>,\n",
              " (22, 1): <gurobi.Constr *Awaiting Model Update*>,\n",
              " (22, 2): <gurobi.Constr *Awaiting Model Update*>,\n",
              " (23, 1): <gurobi.Constr *Awaiting Model Update*>,\n",
              " (23, 2): <gurobi.Constr *Awaiting Model Update*>,\n",
              " (24, 1): <gurobi.Constr *Awaiting Model Update*>,\n",
              " (24, 2): <gurobi.Constr *Awaiting Model Update*>,\n",
              " (25, 1): <gurobi.Constr *Awaiting Model Update*>,\n",
              " (25, 2): <gurobi.Constr *Awaiting Model Update*>,\n",
              " (26, 1): <gurobi.Constr *Awaiting Model Update*>,\n",
              " (26, 2): <gurobi.Constr *Awaiting Model Update*>,\n",
              " (27, 1): <gurobi.Constr *Awaiting Model Update*>,\n",
              " (27, 2): <gurobi.Constr *Awaiting Model Update*>,\n",
              " (28, 1): <gurobi.Constr *Awaiting Model Update*>,\n",
              " (28, 2): <gurobi.Constr *Awaiting Model Update*>,\n",
              " (29, 1): <gurobi.Constr *Awaiting Model Update*>,\n",
              " (29, 2): <gurobi.Constr *Awaiting Model Update*>,\n",
              " (30, 1): <gurobi.Constr *Awaiting Model Update*>,\n",
              " (30, 2): <gurobi.Constr *Awaiting Model Update*>,\n",
              " (31, 1): <gurobi.Constr *Awaiting Model Update*>,\n",
              " (31, 2): <gurobi.Constr *Awaiting Model Update*>,\n",
              " (32, 1): <gurobi.Constr *Awaiting Model Update*>,\n",
              " (32, 2): <gurobi.Constr *Awaiting Model Update*>,\n",
              " (33, 1): <gurobi.Constr *Awaiting Model Update*>,\n",
              " (33, 2): <gurobi.Constr *Awaiting Model Update*>,\n",
              " (34, 1): <gurobi.Constr *Awaiting Model Update*>,\n",
              " (34, 2): <gurobi.Constr *Awaiting Model Update*>,\n",
              " (35, 1): <gurobi.Constr *Awaiting Model Update*>,\n",
              " (35, 2): <gurobi.Constr *Awaiting Model Update*>,\n",
              " (36, 1): <gurobi.Constr *Awaiting Model Update*>,\n",
              " (36, 2): <gurobi.Constr *Awaiting Model Update*>,\n",
              " (37, 1): <gurobi.Constr *Awaiting Model Update*>,\n",
              " (37, 2): <gurobi.Constr *Awaiting Model Update*>,\n",
              " (38, 1): <gurobi.Constr *Awaiting Model Update*>,\n",
              " (38, 2): <gurobi.Constr *Awaiting Model Update*>,\n",
              " (39, 1): <gurobi.Constr *Awaiting Model Update*>,\n",
              " (39, 2): <gurobi.Constr *Awaiting Model Update*>,\n",
              " (40, 1): <gurobi.Constr *Awaiting Model Update*>,\n",
              " (40, 2): <gurobi.Constr *Awaiting Model Update*>,\n",
              " (41, 1): <gurobi.Constr *Awaiting Model Update*>,\n",
              " (41, 2): <gurobi.Constr *Awaiting Model Update*>,\n",
              " (42, 1): <gurobi.Constr *Awaiting Model Update*>,\n",
              " (42, 2): <gurobi.Constr *Awaiting Model Update*>,\n",
              " (43, 1): <gurobi.Constr *Awaiting Model Update*>,\n",
              " (43, 2): <gurobi.Constr *Awaiting Model Update*>,\n",
              " (44, 1): <gurobi.Constr *Awaiting Model Update*>,\n",
              " (44, 2): <gurobi.Constr *Awaiting Model Update*>,\n",
              " (45, 1): <gurobi.Constr *Awaiting Model Update*>,\n",
              " (45, 2): <gurobi.Constr *Awaiting Model Update*>,\n",
              " (46, 1): <gurobi.Constr *Awaiting Model Update*>,\n",
              " (46, 2): <gurobi.Constr *Awaiting Model Update*>,\n",
              " (47, 1): <gurobi.Constr *Awaiting Model Update*>,\n",
              " (47, 2): <gurobi.Constr *Awaiting Model Update*>,\n",
              " (48, 1): <gurobi.Constr *Awaiting Model Update*>,\n",
              " (48, 2): <gurobi.Constr *Awaiting Model Update*>,\n",
              " (49, 1): <gurobi.Constr *Awaiting Model Update*>,\n",
              " (49, 2): <gurobi.Constr *Awaiting Model Update*>,\n",
              " (50, 1): <gurobi.Constr *Awaiting Model Update*>,\n",
              " (50, 2): <gurobi.Constr *Awaiting Model Update*>,\n",
              " (51, 1): <gurobi.Constr *Awaiting Model Update*>,\n",
              " (51, 2): <gurobi.Constr *Awaiting Model Update*>,\n",
              " (52, 1): <gurobi.Constr *Awaiting Model Update*>,\n",
              " (52, 2): <gurobi.Constr *Awaiting Model Update*>,\n",
              " (53, 1): <gurobi.Constr *Awaiting Model Update*>,\n",
              " (53, 2): <gurobi.Constr *Awaiting Model Update*>,\n",
              " (54, 1): <gurobi.Constr *Awaiting Model Update*>,\n",
              " (54, 2): <gurobi.Constr *Awaiting Model Update*>,\n",
              " (55, 1): <gurobi.Constr *Awaiting Model Update*>,\n",
              " (55, 2): <gurobi.Constr *Awaiting Model Update*>,\n",
              " (56, 1): <gurobi.Constr *Awaiting Model Update*>,\n",
              " (56, 2): <gurobi.Constr *Awaiting Model Update*>,\n",
              " (57, 1): <gurobi.Constr *Awaiting Model Update*>,\n",
              " (57, 2): <gurobi.Constr *Awaiting Model Update*>,\n",
              " (58, 1): <gurobi.Constr *Awaiting Model Update*>,\n",
              " (58, 2): <gurobi.Constr *Awaiting Model Update*>,\n",
              " (59, 1): <gurobi.Constr *Awaiting Model Update*>,\n",
              " (59, 2): <gurobi.Constr *Awaiting Model Update*>,\n",
              " (60, 1): <gurobi.Constr *Awaiting Model Update*>,\n",
              " (60, 2): <gurobi.Constr *Awaiting Model Update*>,\n",
              " (61, 1): <gurobi.Constr *Awaiting Model Update*>,\n",
              " (61, 2): <gurobi.Constr *Awaiting Model Update*>,\n",
              " (62, 1): <gurobi.Constr *Awaiting Model Update*>,\n",
              " (62, 2): <gurobi.Constr *Awaiting Model Update*>,\n",
              " (63, 1): <gurobi.Constr *Awaiting Model Update*>,\n",
              " (63, 2): <gurobi.Constr *Awaiting Model Update*>,\n",
              " (64, 1): <gurobi.Constr *Awaiting Model Update*>,\n",
              " (64, 2): <gurobi.Constr *Awaiting Model Update*>,\n",
              " (65, 1): <gurobi.Constr *Awaiting Model Update*>,\n",
              " (65, 2): <gurobi.Constr *Awaiting Model Update*>,\n",
              " (66, 1): <gurobi.Constr *Awaiting Model Update*>,\n",
              " (66, 2): <gurobi.Constr *Awaiting Model Update*>,\n",
              " (67, 1): <gurobi.Constr *Awaiting Model Update*>,\n",
              " (67, 2): <gurobi.Constr *Awaiting Model Update*>,\n",
              " (68, 1): <gurobi.Constr *Awaiting Model Update*>,\n",
              " (68, 2): <gurobi.Constr *Awaiting Model Update*>,\n",
              " (69, 1): <gurobi.Constr *Awaiting Model Update*>,\n",
              " (69, 2): <gurobi.Constr *Awaiting Model Update*>,\n",
              " (70, 1): <gurobi.Constr *Awaiting Model Update*>,\n",
              " (70, 2): <gurobi.Constr *Awaiting Model Update*>,\n",
              " (71, 1): <gurobi.Constr *Awaiting Model Update*>,\n",
              " (71, 2): <gurobi.Constr *Awaiting Model Update*>,\n",
              " (72, 1): <gurobi.Constr *Awaiting Model Update*>,\n",
              " (72, 2): <gurobi.Constr *Awaiting Model Update*>,\n",
              " (73, 1): <gurobi.Constr *Awaiting Model Update*>,\n",
              " (73, 2): <gurobi.Constr *Awaiting Model Update*>,\n",
              " (74, 1): <gurobi.Constr *Awaiting Model Update*>,\n",
              " (74, 2): <gurobi.Constr *Awaiting Model Update*>,\n",
              " (75, 1): <gurobi.Constr *Awaiting Model Update*>,\n",
              " (75, 2): <gurobi.Constr *Awaiting Model Update*>,\n",
              " (76, 1): <gurobi.Constr *Awaiting Model Update*>,\n",
              " (76, 2): <gurobi.Constr *Awaiting Model Update*>,\n",
              " (77, 1): <gurobi.Constr *Awaiting Model Update*>,\n",
              " (77, 2): <gurobi.Constr *Awaiting Model Update*>,\n",
              " (78, 1): <gurobi.Constr *Awaiting Model Update*>,\n",
              " (78, 2): <gurobi.Constr *Awaiting Model Update*>,\n",
              " (79, 1): <gurobi.Constr *Awaiting Model Update*>,\n",
              " (79, 2): <gurobi.Constr *Awaiting Model Update*>,\n",
              " (80, 1): <gurobi.Constr *Awaiting Model Update*>,\n",
              " (80, 2): <gurobi.Constr *Awaiting Model Update*>,\n",
              " (81, 1): <gurobi.Constr *Awaiting Model Update*>,\n",
              " (81, 2): <gurobi.Constr *Awaiting Model Update*>,\n",
              " (82, 1): <gurobi.Constr *Awaiting Model Update*>,\n",
              " (82, 2): <gurobi.Constr *Awaiting Model Update*>,\n",
              " (83, 1): <gurobi.Constr *Awaiting Model Update*>,\n",
              " (83, 2): <gurobi.Constr *Awaiting Model Update*>,\n",
              " (84, 1): <gurobi.Constr *Awaiting Model Update*>,\n",
              " (84, 2): <gurobi.Constr *Awaiting Model Update*>,\n",
              " (85, 1): <gurobi.Constr *Awaiting Model Update*>,\n",
              " (85, 2): <gurobi.Constr *Awaiting Model Update*>,\n",
              " (86, 1): <gurobi.Constr *Awaiting Model Update*>,\n",
              " (86, 2): <gurobi.Constr *Awaiting Model Update*>,\n",
              " (87, 1): <gurobi.Constr *Awaiting Model Update*>,\n",
              " (87, 2): <gurobi.Constr *Awaiting Model Update*>,\n",
              " (88, 1): <gurobi.Constr *Awaiting Model Update*>,\n",
              " (88, 2): <gurobi.Constr *Awaiting Model Update*>,\n",
              " (89, 1): <gurobi.Constr *Awaiting Model Update*>,\n",
              " (89, 2): <gurobi.Constr *Awaiting Model Update*>,\n",
              " (90, 1): <gurobi.Constr *Awaiting Model Update*>,\n",
              " (90, 2): <gurobi.Constr *Awaiting Model Update*>,\n",
              " (91, 1): <gurobi.Constr *Awaiting Model Update*>,\n",
              " (91, 2): <gurobi.Constr *Awaiting Model Update*>,\n",
              " (92, 1): <gurobi.Constr *Awaiting Model Update*>,\n",
              " (92, 2): <gurobi.Constr *Awaiting Model Update*>,\n",
              " (93, 1): <gurobi.Constr *Awaiting Model Update*>,\n",
              " (93, 2): <gurobi.Constr *Awaiting Model Update*>,\n",
              " (94, 1): <gurobi.Constr *Awaiting Model Update*>,\n",
              " (94, 2): <gurobi.Constr *Awaiting Model Update*>,\n",
              " (95, 1): <gurobi.Constr *Awaiting Model Update*>,\n",
              " (95, 2): <gurobi.Constr *Awaiting Model Update*>,\n",
              " (96, 1): <gurobi.Constr *Awaiting Model Update*>,\n",
              " (96, 2): <gurobi.Constr *Awaiting Model Update*>,\n",
              " (97, 1): <gurobi.Constr *Awaiting Model Update*>,\n",
              " (97, 2): <gurobi.Constr *Awaiting Model Update*>,\n",
              " (98, 1): <gurobi.Constr *Awaiting Model Update*>,\n",
              " (98, 2): <gurobi.Constr *Awaiting Model Update*>,\n",
              " (99, 1): <gurobi.Constr *Awaiting Model Update*>,\n",
              " (99, 2): <gurobi.Constr *Awaiting Model Update*>,\n",
              " (100, 1): <gurobi.Constr *Awaiting Model Update*>,\n",
              " (100, 2): <gurobi.Constr *Awaiting Model Update*>}"
            ]
          },
          "metadata": {},
          "execution_count": 199
        }
      ]
    },
    {
      "cell_type": "code",
      "source": [
        "obj = 0\n",
        "\n",
        "for t in T:\n",
        "  for k in K:\n",
        "    obj += q[k]*(c[t]*Q[k,t] + h[t]*v[k,t] + s[t]*u[k,t])\n",
        "\n",
        "New_Model.setObjective(obj, GRB.MINIMIZE)\n",
        "New_Model.optimize()\n",
        "\n",
        "\n",
        "print('Obj: %g' % New_Model.ObjVal)\n",
        "print('Expected value:', New_Model.ObjVal/len(K))"
      ],
      "metadata": {
        "colab": {
          "base_uri": "https://localhost:8080/"
        },
        "id": "yhyht_VbvHx5",
        "outputId": "9378684e-f4b5-4a20-8221-1dfa2357c565"
      },
      "execution_count": 200,
      "outputs": [
        {
          "output_type": "stream",
          "name": "stdout",
          "text": [
            "Gurobi Optimizer version 10.0.0 build v10.0.0rc2 (linux64)\n",
            "\n",
            "CPU model: Intel(R) Xeon(R) CPU @ 2.20GHz, instruction set [SSE2|AVX|AVX2]\n",
            "Thread count: 1 physical cores, 2 logical processors, using up to 2 threads\n",
            "\n",
            "Academic license - for non-commercial use only - registered to isikder@uncc.edu\n",
            "Optimize a model with 400 rows, 1032 columns and 1100 nonzeros\n",
            "Model fingerprint: 0xba215e4d\n",
            "Variable types: 0 continuous, 1032 integer (0 binary)\n",
            "Coefficient statistics:\n",
            "  Matrix range     [1e+00, 1e+00]\n",
            "  Objective range  [6e-01, 8e+01]\n",
            "  Bounds range     [0e+00, 0e+00]\n",
            "  RHS range        [4e+02, 7e+02]\n",
            "Found heuristic solution: objective 3955665.0000\n",
            "Presolve removed 354 rows and 985 columns\n",
            "Presolve time: 0.00s\n",
            "Presolved: 46 rows, 47 columns, 92 nonzeros\n",
            "Variable types: 0 continuous, 47 integer (0 binary)\n",
            "Found heuristic solution: objective 1992406.2000\n",
            "\n",
            "Root relaxation: objective 8.636887e+05, 40 iterations, 0.00 seconds (0.00 work units)\n",
            "\n",
            "    Nodes    |    Current Node    |     Objective Bounds      |     Work\n",
            " Expl Unexpl |  Obj  Depth IntInf | Incumbent    BestBd   Gap | It/Node Time\n",
            "\n",
            "*    0     0               0    863688.75000 863688.750  0.00%     -    0s\n",
            "\n",
            "Explored 1 nodes (40 simplex iterations) in 0.04 seconds (0.00 work units)\n",
            "Thread count was 2 (of 2 available processors)\n",
            "\n",
            "Solution count 3: 863689 1.99241e+06 3.95566e+06 \n",
            "\n",
            "Optimal solution found (tolerance 1.00e-04)\n",
            "Best objective 8.636887500000e+05, best bound 8.636887500000e+05, gap 0.0000%\n",
            "Obj: 863689\n",
            "Expected value: 8636.8875\n"
          ]
        }
      ]
    },
    {
      "cell_type": "code",
      "source": [
        "for i in [1,2]:\n",
        "  for j in [0,1,2,3,4,5,6]:\n",
        "    print(i,j,Q_prime[i,j].X)"
      ],
      "metadata": {
        "colab": {
          "base_uri": "https://localhost:8080/"
        },
        "id": "zIN2WV2ExK9_",
        "outputId": "8b2ab74e-5cb8-4925-d1cc-798ab4bb8845"
      },
      "execution_count": 201,
      "outputs": [
        {
          "output_type": "stream",
          "name": "stdout",
          "text": [
            "1 0 1050.0\n",
            "1 1 -0.0\n",
            "1 2 -0.0\n",
            "1 3 -0.0\n",
            "1 4 -0.0\n",
            "1 5 -0.0\n",
            "1 6 -0.0\n",
            "2 0 -0.0\n",
            "2 1 -0.0\n",
            "2 2 -0.0\n",
            "2 3 -0.0\n",
            "2 4 -0.0\n",
            "2 5 -0.0\n",
            "2 6 -0.0\n"
          ]
        }
      ]
    },
    {
      "cell_type": "code",
      "source": [
        "for k in K:\n",
        "  for t in T:\n",
        "    print(k,t,x[k,t])"
      ],
      "metadata": {
        "colab": {
          "base_uri": "https://localhost:8080/"
        },
        "id": "yHuANSI9Qrfx",
        "outputId": "2df5b401-4927-4fba-dfe9-8f8116f74ecf"
      },
      "execution_count": 202,
      "outputs": [
        {
          "output_type": "stream",
          "name": "stdout",
          "text": [
            "1 1 525.0\n",
            "1 2 475.0\n",
            "2 1 475.0\n",
            "2 2 475.0\n",
            "3 1 525.0\n",
            "3 2 575.0\n",
            "4 1 625.0\n",
            "4 2 625.0\n",
            "5 1 525.0\n",
            "5 2 575.0\n",
            "6 1 475.0\n",
            "6 2 475.0\n",
            "7 1 725.0\n",
            "7 2 725.0\n",
            "8 1 575.0\n",
            "8 2 575.0\n",
            "9 1 475.0\n",
            "9 2 475.0\n",
            "10 1 475.0\n",
            "10 2 525.0\n",
            "11 1 575.0\n",
            "11 2 575.0\n",
            "12 1 475.0\n",
            "12 2 475.0\n",
            "13 1 625.0\n",
            "13 2 625.0\n",
            "14 1 725.0\n",
            "14 2 725.0\n",
            "15 1 575.0\n",
            "15 2 525.0\n",
            "16 1 575.0\n",
            "16 2 575.0\n",
            "17 1 575.0\n",
            "17 2 575.0\n",
            "18 1 575.0\n",
            "18 2 625.0\n",
            "19 1 625.0\n",
            "19 2 625.0\n",
            "20 1 475.0\n",
            "20 2 525.0\n",
            "21 1 425.0\n",
            "21 2 425.0\n",
            "22 1 525.0\n",
            "22 2 525.0\n",
            "23 1 575.0\n",
            "23 2 575.0\n",
            "24 1 475.0\n",
            "24 2 425.0\n",
            "25 1 525.0\n",
            "25 2 525.0\n",
            "26 1 475.0\n",
            "26 2 525.0\n",
            "27 1 675.0\n",
            "27 2 675.0\n",
            "28 1 725.0\n",
            "28 2 725.0\n",
            "29 1 725.0\n",
            "29 2 675.0\n",
            "30 1 575.0\n",
            "30 2 625.0\n",
            "31 1 675.0\n",
            "31 2 625.0\n",
            "32 1 475.0\n",
            "32 2 525.0\n",
            "33 1 725.0\n",
            "33 2 675.0\n",
            "34 1 725.0\n",
            "34 2 675.0\n",
            "35 1 525.0\n",
            "35 2 525.0\n",
            "36 1 725.0\n",
            "36 2 675.0\n",
            "37 1 625.0\n",
            "37 2 625.0\n",
            "38 1 725.0\n",
            "38 2 725.0\n",
            "39 1 625.0\n",
            "39 2 625.0\n",
            "40 1 525.0\n",
            "40 2 525.0\n",
            "41 1 625.0\n",
            "41 2 625.0\n",
            "42 1 475.0\n",
            "42 2 475.0\n",
            "43 1 575.0\n",
            "43 2 625.0\n",
            "44 1 625.0\n",
            "44 2 625.0\n",
            "45 1 725.0\n",
            "45 2 725.0\n",
            "46 1 625.0\n",
            "46 2 625.0\n",
            "47 1 475.0\n",
            "47 2 425.0\n",
            "48 1 625.0\n",
            "48 2 575.0\n",
            "49 1 575.0\n",
            "49 2 575.0\n",
            "50 1 625.0\n",
            "50 2 625.0\n",
            "51 1 575.0\n",
            "51 2 525.0\n",
            "52 1 425.0\n",
            "52 2 475.0\n",
            "53 1 575.0\n",
            "53 2 575.0\n",
            "54 1 575.0\n",
            "54 2 575.0\n",
            "55 1 525.0\n",
            "55 2 525.0\n",
            "56 1 625.0\n",
            "56 2 625.0\n",
            "57 1 575.0\n",
            "57 2 625.0\n",
            "58 1 525.0\n",
            "58 2 525.0\n",
            "59 1 625.0\n",
            "59 2 675.0\n",
            "60 1 475.0\n",
            "60 2 425.0\n",
            "61 1 575.0\n",
            "61 2 525.0\n",
            "62 1 675.0\n",
            "62 2 675.0\n",
            "63 1 675.0\n",
            "63 2 675.0\n",
            "64 1 575.0\n",
            "64 2 575.0\n",
            "65 1 525.0\n",
            "65 2 475.0\n",
            "66 1 475.0\n",
            "66 2 475.0\n",
            "67 1 575.0\n",
            "67 2 575.0\n",
            "68 1 625.0\n",
            "68 2 675.0\n",
            "69 1 525.0\n",
            "69 2 575.0\n",
            "70 1 525.0\n",
            "70 2 575.0\n",
            "71 1 425.0\n",
            "71 2 475.0\n",
            "72 1 525.0\n",
            "72 2 475.0\n",
            "73 1 475.0\n",
            "73 2 475.0\n",
            "74 1 475.0\n",
            "74 2 525.0\n",
            "75 1 675.0\n",
            "75 2 675.0\n",
            "76 1 575.0\n",
            "76 2 575.0\n",
            "77 1 625.0\n",
            "77 2 575.0\n",
            "78 1 475.0\n",
            "78 2 525.0\n",
            "79 1 575.0\n",
            "79 2 575.0\n",
            "80 1 575.0\n",
            "80 2 625.0\n",
            "81 1 675.0\n",
            "81 2 675.0\n",
            "82 1 675.0\n",
            "82 2 625.0\n",
            "83 1 575.0\n",
            "83 2 625.0\n",
            "84 1 525.0\n",
            "84 2 575.0\n",
            "85 1 625.0\n",
            "85 2 625.0\n",
            "86 1 575.0\n",
            "86 2 525.0\n",
            "87 1 625.0\n",
            "87 2 575.0\n",
            "88 1 525.0\n",
            "88 2 475.0\n",
            "89 1 675.0\n",
            "89 2 675.0\n",
            "90 1 425.0\n",
            "90 2 425.0\n",
            "91 1 575.0\n",
            "91 2 625.0\n",
            "92 1 525.0\n",
            "92 2 525.0\n",
            "93 1 675.0\n",
            "93 2 675.0\n",
            "94 1 575.0\n",
            "94 2 525.0\n",
            "95 1 625.0\n",
            "95 2 575.0\n",
            "96 1 725.0\n",
            "96 2 675.0\n",
            "97 1 725.0\n",
            "97 2 725.0\n",
            "98 1 575.0\n",
            "98 2 575.0\n",
            "99 1 525.0\n",
            "99 2 575.0\n",
            "100 1 675.0\n",
            "100 2 675.0\n"
          ]
        }
      ]
    },
    {
      "cell_type": "code",
      "source": [
        "'''\n",
        "for k in K:\n",
        "  for t in T:\n",
        "    print('scene:',k,'time:',t,Q[k,t].X,'+',bin[k,t].X,'*',v[k,t-1].X,'+',1-bin[k,t].X,'*',u[k,t].X,'-',bin[k,t].X,'*',v[k,t].X,'=',x[k,t])\n",
        "'''"
      ],
      "metadata": {
        "colab": {
          "base_uri": "https://localhost:8080/",
          "height": 53
        },
        "id": "CxqLu4pjSIZN",
        "outputId": "0e57ce1c-4aa8-4ecf-92aa-29db490a842c"
      },
      "execution_count": 203,
      "outputs": [
        {
          "output_type": "execute_result",
          "data": {
            "text/plain": [
              "\"\\nfor k in K:\\n  for t in T:\\n    print('scene:',k,'time:',t,Q[k,t].X,'+',bin[k,t].X,'*',v[k,t-1].X,'+',1-bin[k,t].X,'*',u[k,t].X,'-',bin[k,t].X,'*',v[k,t].X,'=',x[k,t])\\n\""
            ],
            "application/vnd.google.colaboratory.intrinsic+json": {
              "type": "string"
            }
          },
          "metadata": {},
          "execution_count": 203
        }
      ]
    },
    {
      "cell_type": "code",
      "source": [
        "x[1,1]"
      ],
      "metadata": {
        "colab": {
          "base_uri": "https://localhost:8080/"
        },
        "id": "OuBSDKrLtZxL",
        "outputId": "6cb0831e-ede0-48b4-cb80-8877d4aaba98"
      },
      "execution_count": 204,
      "outputs": [
        {
          "output_type": "execute_result",
          "data": {
            "text/plain": [
              "525.0"
            ]
          },
          "metadata": {},
          "execution_count": 204
        }
      ]
    },
    {
      "cell_type": "code",
      "source": [
        "for k in K:\n",
        "  for t in T:\n",
        "    print('scene:',k,'time:',t,Q[k,t].X,'+',v[k,t-1].X,'+',u[k,t].X,'-',v[k,t].X,'=',x[k,t])"
      ],
      "metadata": {
        "colab": {
          "base_uri": "https://localhost:8080/"
        },
        "id": "EwBK07E__8GJ",
        "outputId": "f6927131-55ff-4367-9fe3-d2b786e86d1b"
      },
      "execution_count": 205,
      "outputs": [
        {
          "output_type": "stream",
          "name": "stdout",
          "text": [
            "scene: 1 time: 1 1050.0 + 0.0 + 0.0 - 525.0 = 525.0\n",
            "scene: 1 time: 2 0.0 + 525.0 + -0.0 - 50.0 = 475.0\n",
            "scene: 2 time: 1 1050.0 + 0.0 + 0.0 - 575.0 = 475.0\n",
            "scene: 2 time: 2 0.0 + 575.0 + -0.0 - 100.0 = 475.0\n",
            "scene: 3 time: 1 1050.0 + 0.0 + 0.0 - 525.0 = 525.0\n",
            "scene: 3 time: 2 50.0 + 525.0 + -0.0 - -0.0 = 575.0\n",
            "scene: 4 time: 1 1050.0 + 0.0 + 0.0 - 425.0 = 625.0\n",
            "scene: 4 time: 2 200.0 + 425.0 + -0.0 - -0.0 = 625.0\n",
            "scene: 5 time: 1 1050.0 + 0.0 + 0.0 - 525.0 = 525.0\n",
            "scene: 5 time: 2 50.0 + 525.0 + -0.0 - 0.0 = 575.0\n",
            "scene: 6 time: 1 1050.0 + 0.0 + 0.0 - 575.0 = 475.0\n",
            "scene: 6 time: 2 0.0 + 575.0 + -0.0 - 100.0 = 475.0\n",
            "scene: 7 time: 1 1050.0 + 0.0 + 0.0 - 325.0 = 725.0\n",
            "scene: 7 time: 2 400.0 + 325.0 + -0.0 - -0.0 = 725.0\n",
            "scene: 8 time: 1 1050.0 + 0.0 + 0.0 - 475.0 = 575.0\n",
            "scene: 8 time: 2 100.0 + 475.0 + -0.0 - -0.0 = 575.0\n",
            "scene: 9 time: 1 1050.0 + 0.0 + 0.0 - 575.0 = 475.0\n",
            "scene: 9 time: 2 0.0 + 575.0 + -0.0 - 100.0 = 475.0\n",
            "scene: 10 time: 1 1050.0 + 0.0 + 0.0 - 575.0 = 475.0\n",
            "scene: 10 time: 2 0.0 + 575.0 + -0.0 - 50.0 = 525.0\n",
            "scene: 11 time: 1 1050.0 + 0.0 + 0.0 - 475.0 = 575.0\n",
            "scene: 11 time: 2 100.0 + 475.0 + -0.0 - 0.0 = 575.0\n",
            "scene: 12 time: 1 1050.0 + 0.0 + 0.0 - 575.0 = 475.0\n",
            "scene: 12 time: 2 0.0 + 575.0 + -0.0 - 100.0 = 475.0\n",
            "scene: 13 time: 1 1050.0 + 0.0 + 0.0 - 425.0 = 625.0\n",
            "scene: 13 time: 2 200.0 + 425.0 + -0.0 - -0.0 = 625.0\n",
            "scene: 14 time: 1 1050.0 + 0.0 + 0.0 - 325.0 = 725.0\n",
            "scene: 14 time: 2 400.0 + 325.0 + -0.0 - 0.0 = 725.0\n",
            "scene: 15 time: 1 1050.0 + 0.0 + 0.0 - 475.0 = 575.0\n",
            "scene: 15 time: 2 50.0 + 475.0 + -0.0 - -0.0 = 525.0\n",
            "scene: 16 time: 1 1050.0 + 0.0 + 0.0 - 475.0 = 575.0\n",
            "scene: 16 time: 2 100.0 + 475.0 + -0.0 - -0.0 = 575.0\n",
            "scene: 17 time: 1 1050.0 + 0.0 + 0.0 - 475.0 = 575.0\n",
            "scene: 17 time: 2 100.0 + 475.0 + -0.0 - 0.0 = 575.0\n",
            "scene: 18 time: 1 1050.0 + 0.0 + 0.0 - 475.0 = 575.0\n",
            "scene: 18 time: 2 150.0 + 475.0 + -0.0 - -0.0 = 625.0\n",
            "scene: 19 time: 1 1050.0 + 0.0 + 0.0 - 425.0 = 625.0\n",
            "scene: 19 time: 2 200.0 + 425.0 + -0.0 - 0.0 = 625.0\n",
            "scene: 20 time: 1 1050.0 + 0.0 + 0.0 - 575.0 = 475.0\n",
            "scene: 20 time: 2 0.0 + 575.0 + -0.0 - 50.0 = 525.0\n",
            "scene: 21 time: 1 1050.0 + 0.0 + 0.0 - 625.0 = 425.0\n",
            "scene: 21 time: 2 0.0 + 625.0 + -0.0 - 200.0 = 425.0\n",
            "scene: 22 time: 1 1050.0 + 0.0 + 0.0 - 525.0 = 525.0\n",
            "scene: 22 time: 2 0.0 + 525.0 + -0.0 - 0.0 = 525.0\n",
            "scene: 23 time: 1 1050.0 + 0.0 + 0.0 - 475.0 = 575.0\n",
            "scene: 23 time: 2 100.0 + 475.0 + -0.0 - 0.0 = 575.0\n",
            "scene: 24 time: 1 1050.0 + 0.0 + 0.0 - 575.0 = 475.0\n",
            "scene: 24 time: 2 0.0 + 575.0 + -0.0 - 150.0 = 425.0\n",
            "scene: 25 time: 1 1050.0 + 0.0 + 0.0 - 525.0 = 525.0\n",
            "scene: 25 time: 2 0.0 + 525.0 + -0.0 - -0.0 = 525.0\n",
            "scene: 26 time: 1 1050.0 + 0.0 + 0.0 - 575.0 = 475.0\n",
            "scene: 26 time: 2 0.0 + 575.0 + -0.0 - 50.0 = 525.0\n",
            "scene: 27 time: 1 1050.0 + 0.0 + 0.0 - 375.0 = 675.0\n",
            "scene: 27 time: 2 300.0 + 375.0 + -0.0 - -0.0 = 675.0\n",
            "scene: 28 time: 1 1050.0 + 0.0 + 0.0 - 325.0 = 725.0\n",
            "scene: 28 time: 2 400.0 + 325.0 + -0.0 - 0.0 = 725.0\n",
            "scene: 29 time: 1 1050.0 + 0.0 + 0.0 - 325.0 = 725.0\n",
            "scene: 29 time: 2 350.0 + 325.0 + -0.0 - -0.0 = 675.0\n",
            "scene: 30 time: 1 1050.0 + 0.0 + 0.0 - 475.0 = 575.0\n",
            "scene: 30 time: 2 150.0 + 475.0 + -0.0 - 0.0 = 625.0\n",
            "scene: 31 time: 1 1050.0 + 0.0 + 0.0 - 375.0 = 675.0\n",
            "scene: 31 time: 2 250.0 + 375.0 + -0.0 - -0.0 = 625.0\n",
            "scene: 32 time: 1 1050.0 + 0.0 + 0.0 - 575.0 = 475.0\n",
            "scene: 32 time: 2 0.0 + 575.0 + -0.0 - 50.0 = 525.0\n",
            "scene: 33 time: 1 1050.0 + 0.0 + 0.0 - 325.0 = 725.0\n",
            "scene: 33 time: 2 350.0 + 325.0 + -0.0 - 0.0 = 675.0\n",
            "scene: 34 time: 1 1050.0 + 0.0 + 0.0 - 325.0 = 725.0\n",
            "scene: 34 time: 2 350.0 + 325.0 + -0.0 - 0.0 = 675.0\n",
            "scene: 35 time: 1 1050.0 + 0.0 + 0.0 - 525.0 = 525.0\n",
            "scene: 35 time: 2 0.0 + 525.0 + -0.0 - 0.0 = 525.0\n",
            "scene: 36 time: 1 1050.0 + 0.0 + 0.0 - 325.0 = 725.0\n",
            "scene: 36 time: 2 350.0 + 325.0 + -0.0 - 0.0 = 675.0\n",
            "scene: 37 time: 1 1050.0 + 0.0 + 0.0 - 425.0 = 625.0\n",
            "scene: 37 time: 2 200.0 + 425.0 + -0.0 - 0.0 = 625.0\n",
            "scene: 38 time: 1 1050.0 + 0.0 + 0.0 - 325.0 = 725.0\n",
            "scene: 38 time: 2 400.0 + 325.0 + -0.0 - 0.0 = 725.0\n",
            "scene: 39 time: 1 1050.0 + 0.0 + 0.0 - 425.0 = 625.0\n",
            "scene: 39 time: 2 200.0 + 425.0 + -0.0 - 0.0 = 625.0\n",
            "scene: 40 time: 1 1050.0 + 0.0 + 0.0 - 525.0 = 525.0\n",
            "scene: 40 time: 2 0.0 + 525.0 + -0.0 - 0.0 = 525.0\n",
            "scene: 41 time: 1 1050.0 + 0.0 + 0.0 - 425.0 = 625.0\n",
            "scene: 41 time: 2 200.0 + 425.0 + -0.0 - 0.0 = 625.0\n",
            "scene: 42 time: 1 1050.0 + 0.0 + 0.0 - 575.0 = 475.0\n",
            "scene: 42 time: 2 0.0 + 575.0 + -0.0 - 100.0 = 475.0\n",
            "scene: 43 time: 1 1050.0 + 0.0 + 0.0 - 475.0 = 575.0\n",
            "scene: 43 time: 2 150.0 + 475.0 + -0.0 - 0.0 = 625.0\n",
            "scene: 44 time: 1 1050.0 + 0.0 + 0.0 - 425.0 = 625.0\n",
            "scene: 44 time: 2 200.0 + 425.0 + -0.0 - 0.0 = 625.0\n",
            "scene: 45 time: 1 1050.0 + 0.0 + 0.0 - 325.0 = 725.0\n",
            "scene: 45 time: 2 400.0 + 325.0 + -0.0 - 0.0 = 725.0\n",
            "scene: 46 time: 1 1050.0 + 0.0 + 0.0 - 425.0 = 625.0\n",
            "scene: 46 time: 2 200.0 + 425.0 + -0.0 - 0.0 = 625.0\n",
            "scene: 47 time: 1 1050.0 + 0.0 + 0.0 - 575.0 = 475.0\n",
            "scene: 47 time: 2 0.0 + 575.0 + -0.0 - 150.0 = 425.0\n",
            "scene: 48 time: 1 1050.0 + 0.0 + 0.0 - 425.0 = 625.0\n",
            "scene: 48 time: 2 150.0 + 425.0 + -0.0 - -0.0 = 575.0\n",
            "scene: 49 time: 1 1050.0 + 0.0 + 0.0 - 475.0 = 575.0\n",
            "scene: 49 time: 2 100.0 + 475.0 + -0.0 - 0.0 = 575.0\n",
            "scene: 50 time: 1 1050.0 + 0.0 + 0.0 - 425.0 = 625.0\n",
            "scene: 50 time: 2 200.0 + 425.0 + -0.0 - 0.0 = 625.0\n",
            "scene: 51 time: 1 1050.0 + 0.0 + 0.0 - 475.0 = 575.0\n",
            "scene: 51 time: 2 50.0 + 475.0 + -0.0 - 0.0 = 525.0\n",
            "scene: 52 time: 1 1050.0 + 0.0 + 0.0 - 625.0 = 425.0\n",
            "scene: 52 time: 2 0.0 + 625.0 + -0.0 - 150.0 = 475.0\n",
            "scene: 53 time: 1 1050.0 + 0.0 + 0.0 - 475.0 = 575.0\n",
            "scene: 53 time: 2 100.0 + 475.0 + -0.0 - 0.0 = 575.0\n",
            "scene: 54 time: 1 1050.0 + 0.0 + 0.0 - 475.0 = 575.0\n",
            "scene: 54 time: 2 100.0 + 475.0 + -0.0 - 0.0 = 575.0\n",
            "scene: 55 time: 1 1050.0 + 0.0 + 0.0 - 525.0 = 525.0\n",
            "scene: 55 time: 2 0.0 + 525.0 + -0.0 - 0.0 = 525.0\n",
            "scene: 56 time: 1 1050.0 + 0.0 + 0.0 - 425.0 = 625.0\n",
            "scene: 56 time: 2 200.0 + 425.0 + -0.0 - 0.0 = 625.0\n",
            "scene: 57 time: 1 1050.0 + 0.0 + 0.0 - 475.0 = 575.0\n",
            "scene: 57 time: 2 150.0 + 475.0 + -0.0 - 0.0 = 625.0\n",
            "scene: 58 time: 1 1050.0 + 0.0 + 0.0 - 525.0 = 525.0\n",
            "scene: 58 time: 2 0.0 + 525.0 + -0.0 - 0.0 = 525.0\n",
            "scene: 59 time: 1 1050.0 + 0.0 + 0.0 - 425.0 = 625.0\n",
            "scene: 59 time: 2 250.0 + 425.0 + -0.0 - -0.0 = 675.0\n",
            "scene: 60 time: 1 1050.0 + 0.0 + 0.0 - 575.0 = 475.0\n",
            "scene: 60 time: 2 0.0 + 575.0 + -0.0 - 150.0 = 425.0\n",
            "scene: 61 time: 1 1050.0 + 0.0 + 0.0 - 475.0 = 575.0\n",
            "scene: 61 time: 2 50.0 + 475.0 + -0.0 - 0.0 = 525.0\n",
            "scene: 62 time: 1 1050.0 + 0.0 + 0.0 - 375.0 = 675.0\n",
            "scene: 62 time: 2 300.0 + 375.0 + -0.0 - 0.0 = 675.0\n",
            "scene: 63 time: 1 1050.0 + 0.0 + 0.0 - 375.0 = 675.0\n",
            "scene: 63 time: 2 300.0 + 375.0 + -0.0 - -0.0 = 675.0\n",
            "scene: 64 time: 1 1050.0 + 0.0 + 0.0 - 475.0 = 575.0\n",
            "scene: 64 time: 2 100.0 + 475.0 + -0.0 - 0.0 = 575.0\n",
            "scene: 65 time: 1 1050.0 + 0.0 + 0.0 - 525.0 = 525.0\n",
            "scene: 65 time: 2 0.0 + 525.0 + -0.0 - 50.0 = 475.0\n",
            "scene: 66 time: 1 1050.0 + 0.0 + 0.0 - 575.0 = 475.0\n",
            "scene: 66 time: 2 0.0 + 575.0 + -0.0 - 100.0 = 475.0\n",
            "scene: 67 time: 1 1050.0 + 0.0 + 0.0 - 475.0 = 575.0\n",
            "scene: 67 time: 2 100.0 + 475.0 + -0.0 - 0.0 = 575.0\n",
            "scene: 68 time: 1 1050.0 + 0.0 + 0.0 - 425.0 = 625.0\n",
            "scene: 68 time: 2 250.0 + 425.0 + -0.0 - 0.0 = 675.0\n",
            "scene: 69 time: 1 1050.0 + 0.0 + 0.0 - 525.0 = 525.0\n",
            "scene: 69 time: 2 50.0 + 525.0 + -0.0 - 0.0 = 575.0\n",
            "scene: 70 time: 1 1050.0 + 0.0 + 0.0 - 525.0 = 525.0\n",
            "scene: 70 time: 2 50.0 + 525.0 + -0.0 - 0.0 = 575.0\n",
            "scene: 71 time: 1 1050.0 + 0.0 + 0.0 - 625.0 = 425.0\n",
            "scene: 71 time: 2 0.0 + 625.0 + -0.0 - 150.0 = 475.0\n",
            "scene: 72 time: 1 1050.0 + 0.0 + 0.0 - 525.0 = 525.0\n",
            "scene: 72 time: 2 0.0 + 525.0 + -0.0 - 50.0 = 475.0\n",
            "scene: 73 time: 1 1050.0 + 0.0 + 0.0 - 575.0 = 475.0\n",
            "scene: 73 time: 2 0.0 + 575.0 + -0.0 - 100.0 = 475.0\n",
            "scene: 74 time: 1 1050.0 + 0.0 + 0.0 - 575.0 = 475.0\n",
            "scene: 74 time: 2 0.0 + 575.0 + -0.0 - 50.0 = 525.0\n",
            "scene: 75 time: 1 1050.0 + 0.0 + 0.0 - 375.0 = 675.0\n",
            "scene: 75 time: 2 300.0 + 375.0 + -0.0 - 0.0 = 675.0\n",
            "scene: 76 time: 1 1050.0 + 0.0 + 0.0 - 475.0 = 575.0\n",
            "scene: 76 time: 2 100.0 + 475.0 + -0.0 - 0.0 = 575.0\n",
            "scene: 77 time: 1 1050.0 + 0.0 + 0.0 - 425.0 = 625.0\n",
            "scene: 77 time: 2 150.0 + 425.0 + -0.0 - 0.0 = 575.0\n",
            "scene: 78 time: 1 1050.0 + 0.0 + 0.0 - 575.0 = 475.0\n",
            "scene: 78 time: 2 0.0 + 575.0 + -0.0 - 50.0 = 525.0\n",
            "scene: 79 time: 1 1050.0 + 0.0 + 0.0 - 475.0 = 575.0\n",
            "scene: 79 time: 2 100.0 + 475.0 + -0.0 - 0.0 = 575.0\n",
            "scene: 80 time: 1 1050.0 + 0.0 + 0.0 - 475.0 = 575.0\n",
            "scene: 80 time: 2 150.0 + 475.0 + -0.0 - 0.0 = 625.0\n",
            "scene: 81 time: 1 1050.0 + 0.0 + 0.0 - 375.0 = 675.0\n",
            "scene: 81 time: 2 300.0 + 375.0 + -0.0 - 0.0 = 675.0\n",
            "scene: 82 time: 1 1050.0 + 0.0 + 0.0 - 375.0 = 675.0\n",
            "scene: 82 time: 2 250.0 + 375.0 + -0.0 - 0.0 = 625.0\n",
            "scene: 83 time: 1 1050.0 + 0.0 + 0.0 - 475.0 = 575.0\n",
            "scene: 83 time: 2 150.0 + 475.0 + -0.0 - 0.0 = 625.0\n",
            "scene: 84 time: 1 1050.0 + 0.0 + 0.0 - 525.0 = 525.0\n",
            "scene: 84 time: 2 50.0 + 525.0 + -0.0 - 0.0 = 575.0\n",
            "scene: 85 time: 1 1050.0 + 0.0 + 0.0 - 425.0 = 625.0\n",
            "scene: 85 time: 2 200.0 + 425.0 + -0.0 - 0.0 = 625.0\n",
            "scene: 86 time: 1 1050.0 + 0.0 + 0.0 - 475.0 = 575.0\n",
            "scene: 86 time: 2 50.0 + 475.0 + -0.0 - 0.0 = 525.0\n",
            "scene: 87 time: 1 1050.0 + 0.0 + 0.0 - 425.0 = 625.0\n",
            "scene: 87 time: 2 150.0 + 425.0 + -0.0 - 0.0 = 575.0\n",
            "scene: 88 time: 1 1050.0 + 0.0 + 0.0 - 525.0 = 525.0\n",
            "scene: 88 time: 2 0.0 + 525.0 + -0.0 - 50.0 = 475.0\n",
            "scene: 89 time: 1 1050.0 + 0.0 + 0.0 - 375.0 = 675.0\n",
            "scene: 89 time: 2 300.0 + 375.0 + -0.0 - 0.0 = 675.0\n",
            "scene: 90 time: 1 1050.0 + 0.0 + 0.0 - 625.0 = 425.0\n",
            "scene: 90 time: 2 0.0 + 625.0 + -0.0 - 200.0 = 425.0\n",
            "scene: 91 time: 1 1050.0 + 0.0 + 0.0 - 475.0 = 575.0\n",
            "scene: 91 time: 2 150.0 + 475.0 + -0.0 - 0.0 = 625.0\n",
            "scene: 92 time: 1 1050.0 + 0.0 + 0.0 - 525.0 = 525.0\n",
            "scene: 92 time: 2 0.0 + 525.0 + -0.0 - 0.0 = 525.0\n",
            "scene: 93 time: 1 1050.0 + 0.0 + 0.0 - 375.0 = 675.0\n",
            "scene: 93 time: 2 300.0 + 375.0 + -0.0 - 0.0 = 675.0\n",
            "scene: 94 time: 1 1050.0 + 0.0 + 0.0 - 475.0 = 575.0\n",
            "scene: 94 time: 2 50.0 + 475.0 + -0.0 - 0.0 = 525.0\n",
            "scene: 95 time: 1 1050.0 + 0.0 + 0.0 - 425.0 = 625.0\n",
            "scene: 95 time: 2 150.0 + 425.0 + -0.0 - 0.0 = 575.0\n",
            "scene: 96 time: 1 1050.0 + 0.0 + 0.0 - 325.0 = 725.0\n",
            "scene: 96 time: 2 350.0 + 325.0 + -0.0 - 0.0 = 675.0\n",
            "scene: 97 time: 1 1050.0 + 0.0 + 0.0 - 325.0 = 725.0\n",
            "scene: 97 time: 2 400.0 + 325.0 + -0.0 - 0.0 = 725.0\n",
            "scene: 98 time: 1 1050.0 + 0.0 + 0.0 - 475.0 = 575.0\n",
            "scene: 98 time: 2 100.0 + 475.0 + -0.0 - 0.0 = 575.0\n",
            "scene: 99 time: 1 1050.0 + 0.0 + 0.0 - 525.0 = 525.0\n",
            "scene: 99 time: 2 50.0 + 525.0 + -0.0 - 0.0 = 575.0\n",
            "scene: 100 time: 1 1050.0 + 0.0 + 0.0 - 375.0 = 675.0\n",
            "scene: 100 time: 2 300.0 + 375.0 + -0.0 - 0.0 = 675.0\n"
          ]
        }
      ]
    },
    {
      "cell_type": "code",
      "source": [
        "x[k,t]"
      ],
      "metadata": {
        "id": "AETHz5Wxa-Y1",
        "outputId": "2c45e3b6-1de3-468c-829c-93870b6a8d8f",
        "colab": {
          "base_uri": "https://localhost:8080/"
        }
      },
      "execution_count": 206,
      "outputs": [
        {
          "output_type": "execute_result",
          "data": {
            "text/plain": [
              "675.0"
            ]
          },
          "metadata": {},
          "execution_count": 206
        }
      ]
    },
    {
      "cell_type": "code",
      "source": [],
      "metadata": {
        "id": "8tGs8dR5R5m6"
      },
      "execution_count": 206,
      "outputs": []
    }
  ]
}
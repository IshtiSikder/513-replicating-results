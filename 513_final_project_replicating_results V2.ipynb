{
  "nbformat": 4,
  "nbformat_minor": 0,
  "metadata": {
    "colab": {
      "provenance": [],
      "include_colab_link": true
    },
    "kernelspec": {
      "name": "python3",
      "display_name": "Python 3"
    },
    "language_info": {
      "name": "python"
    }
  },
  "cells": [
    {
      "cell_type": "markdown",
      "metadata": {
        "id": "view-in-github",
        "colab_type": "text"
      },
      "source": [
        "<a href=\"https://colab.research.google.com/github/IshtiSikder/513-replicating-results/blob/edit/513_final_project_replicating_results.ipynb\" target=\"_parent\"><img src=\"https://colab.research.google.com/assets/colab-badge.svg\" alt=\"Open In Colab\"/></a>"
      ]
    },
    {
      "cell_type": "markdown",
      "source": [
        "Calculate expected cost better !!!!!"
      ],
      "metadata": {
        "id": "F8ASUwZqumf6"
      }
    },
    {
      "cell_type": "code",
      "execution_count": 99,
      "metadata": {
        "colab": {
          "base_uri": "https://localhost:8080/"
        },
        "id": "FQcIdonUSA_7",
        "outputId": "9138cae7-1b1a-4100-cdb7-79851967a813"
      },
      "outputs": [
        {
          "output_type": "stream",
          "name": "stdout",
          "text": [
            "Looking in indexes: https://pypi.org/simple, https://us-python.pkg.dev/colab-wheels/public/simple/\n",
            "Requirement already satisfied: gurobipy in /usr/local/lib/python3.8/dist-packages (10.0.0)\n"
          ]
        }
      ],
      "source": [
        "#Install gurobi\n",
        "!pip install gurobipy"
      ]
    },
    {
      "cell_type": "code",
      "source": [
        "#Import necessary libraries\n",
        "import sys\n",
        "import numpy as np\n",
        "import pandas as pd\n",
        "from numpy import linalg as la\n",
        "import gurobipy as gp\n",
        "from gurobipy import *"
      ],
      "metadata": {
        "id": "jzExF7GdSC_W"
      },
      "execution_count": 100,
      "outputs": []
    },
    {
      "cell_type": "code",
      "source": [
        "#Activate gurobi license (only if run on google colab)\n",
        "e = gp.Env(empty=True)\n",
        "e.setParam('WLSACCESSID', 'dcee8c55-6742-4816-bae1-a0742c8f71a9')\n",
        "e.setParam('WLSSECRET', '70f89e9f-2426-41b9-abe7-88c4b6090a45')\n",
        "e.setParam('LICENSEID',820825)\n",
        "e.start()"
      ],
      "metadata": {
        "colab": {
          "base_uri": "https://localhost:8080/"
        },
        "id": "JH-2qg-8SItd",
        "outputId": "3d84e9ce-daa8-4744-c804-b78239f7eea7"
      },
      "execution_count": 101,
      "outputs": [
        {
          "output_type": "stream",
          "name": "stdout",
          "text": [
            "Set parameter WLSAccessID\n",
            "Set parameter WLSSecret\n",
            "Set parameter LicenseID to value 820825\n",
            "Academic license - for non-commercial use only - registered to isikder@uncc.edu\n"
          ]
        },
        {
          "output_type": "execute_result",
          "data": {
            "text/plain": [
              "<gurobipy.Env, Parameter changes: WLSAccessID=(user-defined), WLSSecret=(user-defined), LicenseID=820825>"
            ]
          },
          "metadata": {},
          "execution_count": 101
        }
      ]
    },
    {
      "cell_type": "code",
      "source": [
        "#Setup the optimization model\n",
        "New_Model = gp.Model(\"New Model\",env=e) "
      ],
      "metadata": {
        "id": "BkGZ5C8fSMVV"
      },
      "execution_count": 102,
      "outputs": []
    },
    {
      "cell_type": "code",
      "source": [
        "data = pd.DataFrame({'pre-demand':[100,150,0,0,0,0],'pre-demand prob':[0.5,0.5,0,0,0,0],'demand':[650,750,850,950,1050,1150],'demand prob':[0.17,0.27,0.23,0.17,0.12,0.04]})\n",
        "data"
      ],
      "metadata": {
        "colab": {
          "base_uri": "https://localhost:8080/",
          "height": 238
        },
        "id": "q74WMxR3lxaa",
        "outputId": "2a3618ce-e06c-4bbe-f523-e8a28e388dfb"
      },
      "execution_count": 103,
      "outputs": [
        {
          "output_type": "execute_result",
          "data": {
            "text/plain": [
              "   pre-demand  pre-demand prob  demand  demand prob\n",
              "0         100              0.5     650         0.17\n",
              "1         150              0.5     750         0.27\n",
              "2           0              0.0     850         0.23\n",
              "3           0              0.0     950         0.17\n",
              "4           0              0.0    1050         0.12\n",
              "5           0              0.0    1150         0.04"
            ],
            "text/html": [
              "\n",
              "  <div id=\"df-afa20fb2-df9b-4a2c-8011-75e87e1b6b7c\">\n",
              "    <div class=\"colab-df-container\">\n",
              "      <div>\n",
              "<style scoped>\n",
              "    .dataframe tbody tr th:only-of-type {\n",
              "        vertical-align: middle;\n",
              "    }\n",
              "\n",
              "    .dataframe tbody tr th {\n",
              "        vertical-align: top;\n",
              "    }\n",
              "\n",
              "    .dataframe thead th {\n",
              "        text-align: right;\n",
              "    }\n",
              "</style>\n",
              "<table border=\"1\" class=\"dataframe\">\n",
              "  <thead>\n",
              "    <tr style=\"text-align: right;\">\n",
              "      <th></th>\n",
              "      <th>pre-demand</th>\n",
              "      <th>pre-demand prob</th>\n",
              "      <th>demand</th>\n",
              "      <th>demand prob</th>\n",
              "    </tr>\n",
              "  </thead>\n",
              "  <tbody>\n",
              "    <tr>\n",
              "      <th>0</th>\n",
              "      <td>100</td>\n",
              "      <td>0.5</td>\n",
              "      <td>650</td>\n",
              "      <td>0.17</td>\n",
              "    </tr>\n",
              "    <tr>\n",
              "      <th>1</th>\n",
              "      <td>150</td>\n",
              "      <td>0.5</td>\n",
              "      <td>750</td>\n",
              "      <td>0.27</td>\n",
              "    </tr>\n",
              "    <tr>\n",
              "      <th>2</th>\n",
              "      <td>0</td>\n",
              "      <td>0.0</td>\n",
              "      <td>850</td>\n",
              "      <td>0.23</td>\n",
              "    </tr>\n",
              "    <tr>\n",
              "      <th>3</th>\n",
              "      <td>0</td>\n",
              "      <td>0.0</td>\n",
              "      <td>950</td>\n",
              "      <td>0.17</td>\n",
              "    </tr>\n",
              "    <tr>\n",
              "      <th>4</th>\n",
              "      <td>0</td>\n",
              "      <td>0.0</td>\n",
              "      <td>1050</td>\n",
              "      <td>0.12</td>\n",
              "    </tr>\n",
              "    <tr>\n",
              "      <th>5</th>\n",
              "      <td>0</td>\n",
              "      <td>0.0</td>\n",
              "      <td>1150</td>\n",
              "      <td>0.04</td>\n",
              "    </tr>\n",
              "  </tbody>\n",
              "</table>\n",
              "</div>\n",
              "      <button class=\"colab-df-convert\" onclick=\"convertToInteractive('df-afa20fb2-df9b-4a2c-8011-75e87e1b6b7c')\"\n",
              "              title=\"Convert this dataframe to an interactive table.\"\n",
              "              style=\"display:none;\">\n",
              "        \n",
              "  <svg xmlns=\"http://www.w3.org/2000/svg\" height=\"24px\"viewBox=\"0 0 24 24\"\n",
              "       width=\"24px\">\n",
              "    <path d=\"M0 0h24v24H0V0z\" fill=\"none\"/>\n",
              "    <path d=\"M18.56 5.44l.94 2.06.94-2.06 2.06-.94-2.06-.94-.94-2.06-.94 2.06-2.06.94zm-11 1L8.5 8.5l.94-2.06 2.06-.94-2.06-.94L8.5 2.5l-.94 2.06-2.06.94zm10 10l.94 2.06.94-2.06 2.06-.94-2.06-.94-.94-2.06-.94 2.06-2.06.94z\"/><path d=\"M17.41 7.96l-1.37-1.37c-.4-.4-.92-.59-1.43-.59-.52 0-1.04.2-1.43.59L10.3 9.45l-7.72 7.72c-.78.78-.78 2.05 0 2.83L4 21.41c.39.39.9.59 1.41.59.51 0 1.02-.2 1.41-.59l7.78-7.78 2.81-2.81c.8-.78.8-2.07 0-2.86zM5.41 20L4 18.59l7.72-7.72 1.47 1.35L5.41 20z\"/>\n",
              "  </svg>\n",
              "      </button>\n",
              "      \n",
              "  <style>\n",
              "    .colab-df-container {\n",
              "      display:flex;\n",
              "      flex-wrap:wrap;\n",
              "      gap: 12px;\n",
              "    }\n",
              "\n",
              "    .colab-df-convert {\n",
              "      background-color: #E8F0FE;\n",
              "      border: none;\n",
              "      border-radius: 50%;\n",
              "      cursor: pointer;\n",
              "      display: none;\n",
              "      fill: #1967D2;\n",
              "      height: 32px;\n",
              "      padding: 0 0 0 0;\n",
              "      width: 32px;\n",
              "    }\n",
              "\n",
              "    .colab-df-convert:hover {\n",
              "      background-color: #E2EBFA;\n",
              "      box-shadow: 0px 1px 2px rgba(60, 64, 67, 0.3), 0px 1px 3px 1px rgba(60, 64, 67, 0.15);\n",
              "      fill: #174EA6;\n",
              "    }\n",
              "\n",
              "    [theme=dark] .colab-df-convert {\n",
              "      background-color: #3B4455;\n",
              "      fill: #D2E3FC;\n",
              "    }\n",
              "\n",
              "    [theme=dark] .colab-df-convert:hover {\n",
              "      background-color: #434B5C;\n",
              "      box-shadow: 0px 1px 3px 1px rgba(0, 0, 0, 0.15);\n",
              "      filter: drop-shadow(0px 1px 2px rgba(0, 0, 0, 0.3));\n",
              "      fill: #FFFFFF;\n",
              "    }\n",
              "  </style>\n",
              "\n",
              "      <script>\n",
              "        const buttonEl =\n",
              "          document.querySelector('#df-afa20fb2-df9b-4a2c-8011-75e87e1b6b7c button.colab-df-convert');\n",
              "        buttonEl.style.display =\n",
              "          google.colab.kernel.accessAllowed ? 'block' : 'none';\n",
              "\n",
              "        async function convertToInteractive(key) {\n",
              "          const element = document.querySelector('#df-afa20fb2-df9b-4a2c-8011-75e87e1b6b7c');\n",
              "          const dataTable =\n",
              "            await google.colab.kernel.invokeFunction('convertToInteractive',\n",
              "                                                     [key], {});\n",
              "          if (!dataTable) return;\n",
              "\n",
              "          const docLinkHtml = 'Like what you see? Visit the ' +\n",
              "            '<a target=\"_blank\" href=https://colab.research.google.com/notebooks/data_table.ipynb>data table notebook</a>'\n",
              "            + ' to learn more about interactive tables.';\n",
              "          element.innerHTML = '';\n",
              "          dataTable['output_type'] = 'display_data';\n",
              "          await google.colab.output.renderOutput(dataTable, element);\n",
              "          const docLink = document.createElement('div');\n",
              "          docLink.innerHTML = docLinkHtml;\n",
              "          element.appendChild(docLink);\n",
              "        }\n",
              "      </script>\n",
              "    </div>\n",
              "  </div>\n",
              "  "
            ]
          },
          "metadata": {},
          "execution_count": 103
        }
      ]
    },
    {
      "cell_type": "code",
      "source": [
        "K = range(1,37)\n",
        "T = [1,2]"
      ],
      "metadata": {
        "id": "rq5vPXCGTxLX"
      },
      "execution_count": 104,
      "outputs": []
    },
    {
      "cell_type": "code",
      "source": [
        "Q = New_Model.addVars(K,T,lb=0,vtype=GRB.INTEGER)\n",
        "v = New_Model.addVars(K,[0,1,2,3,4],lb=0,vtype=GRB.INTEGER)\n",
        "u = New_Model.addVars(K,T,lb=0,vtype=GRB.INTEGER)\n",
        "x = New_Model.addVars(K,T,lb=0,vtype=GRB.INTEGER)\n",
        "c = New_Model.addVars(T,lb=0,vtype=GRB.INTEGER)\n",
        "h = New_Model.addVars(T,lb=0,vtype=GRB.INTEGER)\n",
        "s = New_Model.addVars(T,lb=0,vtype=GRB.INTEGER)\n",
        "Q_prime = New_Model.addVars(T,[0],lb=0,vtype=GRB.INTEGER)\n",
        "bin = New_Model.addVars(K,[0,1,2],vtype=GRB.BINARY)"
      ],
      "metadata": {
        "id": "5eygADrhSaWn"
      },
      "execution_count": 105,
      "outputs": []
    },
    {
      "cell_type": "code",
      "source": [
        "c[1] = 30\n",
        "c[2] = 4*c[1]\n",
        "s[1] = 300\n",
        "s[2] = s[1]\n",
        "\n",
        "for t in T:\n",
        "  h[t] = c[t]/2"
      ],
      "metadata": {
        "id": "qJfyqt6mtg9M"
      },
      "execution_count": 106,
      "outputs": []
    },
    {
      "cell_type": "code",
      "source": [
        "for k in K:\n",
        "  hur_dem = np.random.choice(list(data['demand']), 1, list(data['demand prob']))[0]\n",
        "  x[k,1] = np.random.choice(list(data['pre-demand'])[:2], 1, list(data['pre-demand prob'])[:2])[0] + hur_dem\n",
        "  x[k,2] = np.random.choice(list(data['pre-demand'])[:2], 1, list(data['pre-demand prob'])[:2])[0] "
      ],
      "metadata": {
        "id": "PufrQwSWTpaG"
      },
      "execution_count": 107,
      "outputs": []
    },
    {
      "cell_type": "code",
      "source": [
        "New_Model.addConstrs(v[k,0]==0 for k in K)\n",
        "New_Model.addConstrs(bin[k,0]==0 for k in K)"
      ],
      "metadata": {
        "colab": {
          "base_uri": "https://localhost:8080/"
        },
        "id": "IYk5A2T6Wqnv",
        "outputId": "5d2ee200-40d6-4a4c-bc6d-e3c5a7a6d899"
      },
      "execution_count": 108,
      "outputs": [
        {
          "output_type": "execute_result",
          "data": {
            "text/plain": [
              "{1: <gurobi.Constr *Awaiting Model Update*>,\n",
              " 2: <gurobi.Constr *Awaiting Model Update*>,\n",
              " 3: <gurobi.Constr *Awaiting Model Update*>,\n",
              " 4: <gurobi.Constr *Awaiting Model Update*>,\n",
              " 5: <gurobi.Constr *Awaiting Model Update*>,\n",
              " 6: <gurobi.Constr *Awaiting Model Update*>,\n",
              " 7: <gurobi.Constr *Awaiting Model Update*>,\n",
              " 8: <gurobi.Constr *Awaiting Model Update*>,\n",
              " 9: <gurobi.Constr *Awaiting Model Update*>,\n",
              " 10: <gurobi.Constr *Awaiting Model Update*>,\n",
              " 11: <gurobi.Constr *Awaiting Model Update*>,\n",
              " 12: <gurobi.Constr *Awaiting Model Update*>,\n",
              " 13: <gurobi.Constr *Awaiting Model Update*>,\n",
              " 14: <gurobi.Constr *Awaiting Model Update*>,\n",
              " 15: <gurobi.Constr *Awaiting Model Update*>,\n",
              " 16: <gurobi.Constr *Awaiting Model Update*>,\n",
              " 17: <gurobi.Constr *Awaiting Model Update*>,\n",
              " 18: <gurobi.Constr *Awaiting Model Update*>,\n",
              " 19: <gurobi.Constr *Awaiting Model Update*>,\n",
              " 20: <gurobi.Constr *Awaiting Model Update*>,\n",
              " 21: <gurobi.Constr *Awaiting Model Update*>,\n",
              " 22: <gurobi.Constr *Awaiting Model Update*>,\n",
              " 23: <gurobi.Constr *Awaiting Model Update*>,\n",
              " 24: <gurobi.Constr *Awaiting Model Update*>,\n",
              " 25: <gurobi.Constr *Awaiting Model Update*>,\n",
              " 26: <gurobi.Constr *Awaiting Model Update*>,\n",
              " 27: <gurobi.Constr *Awaiting Model Update*>,\n",
              " 28: <gurobi.Constr *Awaiting Model Update*>,\n",
              " 29: <gurobi.Constr *Awaiting Model Update*>,\n",
              " 30: <gurobi.Constr *Awaiting Model Update*>,\n",
              " 31: <gurobi.Constr *Awaiting Model Update*>,\n",
              " 32: <gurobi.Constr *Awaiting Model Update*>,\n",
              " 33: <gurobi.Constr *Awaiting Model Update*>,\n",
              " 34: <gurobi.Constr *Awaiting Model Update*>,\n",
              " 35: <gurobi.Constr *Awaiting Model Update*>,\n",
              " 36: <gurobi.Constr *Awaiting Model Update*>}"
            ]
          },
          "metadata": {},
          "execution_count": 108
        }
      ]
    },
    {
      "cell_type": "code",
      "source": [
        "New_Model.addConstrs(Q[k,1] == Q_prime[1,0] for k in K)\n",
        "New_Model.addConstrs(Q[k,2] == Q_prime[2,0] for k in K)"
      ],
      "metadata": {
        "id": "2i4kcnSIU9QQ",
        "colab": {
          "base_uri": "https://localhost:8080/"
        },
        "outputId": "c5c7a931-fd0c-4263-ec75-5ed54d2144a7"
      },
      "execution_count": 109,
      "outputs": [
        {
          "output_type": "execute_result",
          "data": {
            "text/plain": [
              "{1: <gurobi.Constr *Awaiting Model Update*>,\n",
              " 2: <gurobi.Constr *Awaiting Model Update*>,\n",
              " 3: <gurobi.Constr *Awaiting Model Update*>,\n",
              " 4: <gurobi.Constr *Awaiting Model Update*>,\n",
              " 5: <gurobi.Constr *Awaiting Model Update*>,\n",
              " 6: <gurobi.Constr *Awaiting Model Update*>,\n",
              " 7: <gurobi.Constr *Awaiting Model Update*>,\n",
              " 8: <gurobi.Constr *Awaiting Model Update*>,\n",
              " 9: <gurobi.Constr *Awaiting Model Update*>,\n",
              " 10: <gurobi.Constr *Awaiting Model Update*>,\n",
              " 11: <gurobi.Constr *Awaiting Model Update*>,\n",
              " 12: <gurobi.Constr *Awaiting Model Update*>,\n",
              " 13: <gurobi.Constr *Awaiting Model Update*>,\n",
              " 14: <gurobi.Constr *Awaiting Model Update*>,\n",
              " 15: <gurobi.Constr *Awaiting Model Update*>,\n",
              " 16: <gurobi.Constr *Awaiting Model Update*>,\n",
              " 17: <gurobi.Constr *Awaiting Model Update*>,\n",
              " 18: <gurobi.Constr *Awaiting Model Update*>,\n",
              " 19: <gurobi.Constr *Awaiting Model Update*>,\n",
              " 20: <gurobi.Constr *Awaiting Model Update*>,\n",
              " 21: <gurobi.Constr *Awaiting Model Update*>,\n",
              " 22: <gurobi.Constr *Awaiting Model Update*>,\n",
              " 23: <gurobi.Constr *Awaiting Model Update*>,\n",
              " 24: <gurobi.Constr *Awaiting Model Update*>,\n",
              " 25: <gurobi.Constr *Awaiting Model Update*>,\n",
              " 26: <gurobi.Constr *Awaiting Model Update*>,\n",
              " 27: <gurobi.Constr *Awaiting Model Update*>,\n",
              " 28: <gurobi.Constr *Awaiting Model Update*>,\n",
              " 29: <gurobi.Constr *Awaiting Model Update*>,\n",
              " 30: <gurobi.Constr *Awaiting Model Update*>,\n",
              " 31: <gurobi.Constr *Awaiting Model Update*>,\n",
              " 32: <gurobi.Constr *Awaiting Model Update*>,\n",
              " 33: <gurobi.Constr *Awaiting Model Update*>,\n",
              " 34: <gurobi.Constr *Awaiting Model Update*>,\n",
              " 35: <gurobi.Constr *Awaiting Model Update*>,\n",
              " 36: <gurobi.Constr *Awaiting Model Update*>}"
            ]
          },
          "metadata": {},
          "execution_count": 109
        }
      ]
    },
    {
      "cell_type": "code",
      "source": [
        "New_Model.addConstrs(Q[k,t]+ bin[k,t-1]*v[k,t-1]+(1-bin[k,t])*u[k,t]-bin[k,t]*v[k,t] == x[k,t] for k in K for t in T)"
      ],
      "metadata": {
        "id": "4fYML5bGPQ9_",
        "colab": {
          "base_uri": "https://localhost:8080/"
        },
        "outputId": "d19f3a59-2038-4b5d-80b9-404d2e8db755"
      },
      "execution_count": 110,
      "outputs": [
        {
          "output_type": "execute_result",
          "data": {
            "text/plain": [
              "{(1, 1): <gurobi.QConstr Not Yet Added>,\n",
              " (1, 2): <gurobi.QConstr Not Yet Added>,\n",
              " (2, 1): <gurobi.QConstr Not Yet Added>,\n",
              " (2, 2): <gurobi.QConstr Not Yet Added>,\n",
              " (3, 1): <gurobi.QConstr Not Yet Added>,\n",
              " (3, 2): <gurobi.QConstr Not Yet Added>,\n",
              " (4, 1): <gurobi.QConstr Not Yet Added>,\n",
              " (4, 2): <gurobi.QConstr Not Yet Added>,\n",
              " (5, 1): <gurobi.QConstr Not Yet Added>,\n",
              " (5, 2): <gurobi.QConstr Not Yet Added>,\n",
              " (6, 1): <gurobi.QConstr Not Yet Added>,\n",
              " (6, 2): <gurobi.QConstr Not Yet Added>,\n",
              " (7, 1): <gurobi.QConstr Not Yet Added>,\n",
              " (7, 2): <gurobi.QConstr Not Yet Added>,\n",
              " (8, 1): <gurobi.QConstr Not Yet Added>,\n",
              " (8, 2): <gurobi.QConstr Not Yet Added>,\n",
              " (9, 1): <gurobi.QConstr Not Yet Added>,\n",
              " (9, 2): <gurobi.QConstr Not Yet Added>,\n",
              " (10, 1): <gurobi.QConstr Not Yet Added>,\n",
              " (10, 2): <gurobi.QConstr Not Yet Added>,\n",
              " (11, 1): <gurobi.QConstr Not Yet Added>,\n",
              " (11, 2): <gurobi.QConstr Not Yet Added>,\n",
              " (12, 1): <gurobi.QConstr Not Yet Added>,\n",
              " (12, 2): <gurobi.QConstr Not Yet Added>,\n",
              " (13, 1): <gurobi.QConstr Not Yet Added>,\n",
              " (13, 2): <gurobi.QConstr Not Yet Added>,\n",
              " (14, 1): <gurobi.QConstr Not Yet Added>,\n",
              " (14, 2): <gurobi.QConstr Not Yet Added>,\n",
              " (15, 1): <gurobi.QConstr Not Yet Added>,\n",
              " (15, 2): <gurobi.QConstr Not Yet Added>,\n",
              " (16, 1): <gurobi.QConstr Not Yet Added>,\n",
              " (16, 2): <gurobi.QConstr Not Yet Added>,\n",
              " (17, 1): <gurobi.QConstr Not Yet Added>,\n",
              " (17, 2): <gurobi.QConstr Not Yet Added>,\n",
              " (18, 1): <gurobi.QConstr Not Yet Added>,\n",
              " (18, 2): <gurobi.QConstr Not Yet Added>,\n",
              " (19, 1): <gurobi.QConstr Not Yet Added>,\n",
              " (19, 2): <gurobi.QConstr Not Yet Added>,\n",
              " (20, 1): <gurobi.QConstr Not Yet Added>,\n",
              " (20, 2): <gurobi.QConstr Not Yet Added>,\n",
              " (21, 1): <gurobi.QConstr Not Yet Added>,\n",
              " (21, 2): <gurobi.QConstr Not Yet Added>,\n",
              " (22, 1): <gurobi.QConstr Not Yet Added>,\n",
              " (22, 2): <gurobi.QConstr Not Yet Added>,\n",
              " (23, 1): <gurobi.QConstr Not Yet Added>,\n",
              " (23, 2): <gurobi.QConstr Not Yet Added>,\n",
              " (24, 1): <gurobi.QConstr Not Yet Added>,\n",
              " (24, 2): <gurobi.QConstr Not Yet Added>,\n",
              " (25, 1): <gurobi.QConstr Not Yet Added>,\n",
              " (25, 2): <gurobi.QConstr Not Yet Added>,\n",
              " (26, 1): <gurobi.QConstr Not Yet Added>,\n",
              " (26, 2): <gurobi.QConstr Not Yet Added>,\n",
              " (27, 1): <gurobi.QConstr Not Yet Added>,\n",
              " (27, 2): <gurobi.QConstr Not Yet Added>,\n",
              " (28, 1): <gurobi.QConstr Not Yet Added>,\n",
              " (28, 2): <gurobi.QConstr Not Yet Added>,\n",
              " (29, 1): <gurobi.QConstr Not Yet Added>,\n",
              " (29, 2): <gurobi.QConstr Not Yet Added>,\n",
              " (30, 1): <gurobi.QConstr Not Yet Added>,\n",
              " (30, 2): <gurobi.QConstr Not Yet Added>,\n",
              " (31, 1): <gurobi.QConstr Not Yet Added>,\n",
              " (31, 2): <gurobi.QConstr Not Yet Added>,\n",
              " (32, 1): <gurobi.QConstr Not Yet Added>,\n",
              " (32, 2): <gurobi.QConstr Not Yet Added>,\n",
              " (33, 1): <gurobi.QConstr Not Yet Added>,\n",
              " (33, 2): <gurobi.QConstr Not Yet Added>,\n",
              " (34, 1): <gurobi.QConstr Not Yet Added>,\n",
              " (34, 2): <gurobi.QConstr Not Yet Added>,\n",
              " (35, 1): <gurobi.QConstr Not Yet Added>,\n",
              " (35, 2): <gurobi.QConstr Not Yet Added>,\n",
              " (36, 1): <gurobi.QConstr Not Yet Added>,\n",
              " (36, 2): <gurobi.QConstr Not Yet Added>}"
            ]
          },
          "metadata": {},
          "execution_count": 110
        }
      ]
    },
    {
      "cell_type": "code",
      "source": [
        "obj = 0\n",
        "penalty = 50\n",
        "\n",
        "for t in T:\n",
        "  for k in K:\n",
        "    obj += c[t]*Q[k,t] + h[t]*v[k,t] + s[t]*u[k,t]*penalty\n",
        "\n",
        "New_Model.setObjective(obj, GRB.MINIMIZE)\n",
        "New_Model.optimize()\n",
        "\n",
        "\n",
        "print('Obj: %g' % New_Model.ObjVal)"
      ],
      "metadata": {
        "colab": {
          "base_uri": "https://localhost:8080/"
        },
        "id": "yhyht_VbvHx5",
        "outputId": "68096d32-610c-4f71-cdc6-06bf895f537b"
      },
      "execution_count": 111,
      "outputs": [
        {
          "output_type": "stream",
          "name": "stdout",
          "text": [
            "Gurobi Optimizer version 10.0.0 build v10.0.0rc2 (linux64)\n",
            "\n",
            "CPU model: Intel(R) Xeon(R) CPU @ 2.20GHz, instruction set [SSE2|AVX|AVX2]\n",
            "Thread count: 1 physical cores, 2 logical processors, using up to 2 threads\n",
            "\n",
            "Academic license - for non-commercial use only - registered to isikder@uncc.edu\n",
            "Optimize a model with 144 rows, 512 columns and 216 nonzeros\n",
            "Model fingerprint: 0x15e37a02\n",
            "Model has 72 quadratic constraints\n",
            "Variable types: 0 continuous, 512 integer (108 binary)\n",
            "Coefficient statistics:\n",
            "  Matrix range     [1e+00, 1e+00]\n",
            "  QMatrix range    [1e+00, 1e+00]\n",
            "  QLMatrix range   [1e+00, 1e+00]\n",
            "  Objective range  [2e+01, 2e+04]\n",
            "  Bounds range     [1e+00, 1e+00]\n",
            "  RHS range        [0e+00, 0e+00]\n",
            "  QRHS range       [1e+02, 1e+03]\n",
            "Presolve removed 144 rows and 294 columns\n",
            "Presolve time: 0.00s\n",
            "Presolved: 360 rows, 650 columns, 1044 nonzeros\n",
            "Presolved model has 288 SOS constraint(s)\n",
            "Variable types: 0 continuous, 650 integer (216 binary)\n",
            "Found heuristic solution: objective 6.052500e+08\n",
            "Found heuristic solution: objective 2925000.0000\n",
            "\n",
            "Root relaxation: objective 2.520000e+06, 261 iterations, 0.00 seconds (0.00 work units)\n",
            "\n",
            "    Nodes    |    Current Node    |     Objective Bounds      |     Work\n",
            " Expl Unexpl |  Obj  Depth IntInf | Incumbent    BestBd   Gap | It/Node Time\n",
            "\n",
            "     0     0 2520000.00    0   57 2925000.00 2520000.00  13.8%     -    0s\n",
            "H    0     0                    2520000.0000 2520000.00  0.00%     -    0s\n",
            "     0     0 2520000.00    0    8 2520000.00 2520000.00  0.00%     -    0s\n",
            "\n",
            "Explored 1 nodes (261 simplex iterations) in 0.08 seconds (0.01 work units)\n",
            "Thread count was 2 (of 2 available processors)\n",
            "\n",
            "Solution count 3: 2.52e+06 2.925e+06 6.0525e+08 \n",
            "\n",
            "Optimal solution found (tolerance 1.00e-04)\n",
            "Best objective 2.520000000000e+06, best bound 2.520000000000e+06, gap 0.0000%\n",
            "Obj: 2.52e+06\n"
          ]
        }
      ]
    },
    {
      "cell_type": "code",
      "source": [
        "sum = 0\n",
        "for k in K:\n",
        "  for t in T:\n",
        "    sum += (c[t])*(Q[k,t].X) + (h[t])*(v[k,t].X) + (s[t])*(u[k,t].X)\n",
        "\n",
        "print('Expected cost:',sum/len(K)*len(T))\n",
        "\n",
        "print('Optimal Order quantity for April:',Q_prime[1,0].X)\n",
        "print('Optimal Order quantity for May:',Q_prime[2,0].X)\n"
      ],
      "metadata": {
        "id": "XULz57SNGvRK",
        "outputId": "e9bad00e-ec1f-4ef6-8a57-c82b3f79c3ee",
        "colab": {
          "base_uri": "https://localhost:8080/"
        }
      },
      "execution_count": 112,
      "outputs": [
        {
          "output_type": "stream",
          "name": "stdout",
          "text": [
            "Expected cost: 140000.0\n",
            "Optimal Order quantity for April: 1450.0\n",
            "Optimal Order quantity for May: 0.0\n"
          ]
        }
      ]
    },
    {
      "cell_type": "code",
      "source": [
        "#Inventory breakdown over time periods for different scenarios\n",
        "\n",
        "for k in K:\n",
        "  for t in T:\n",
        "    print('scene',k,'time:',t,'=>',Q[k,t].X,'+',(bin[k,t-1]).X,'*',v[k,t-1].X,'+',(1-bin[k,t].X),'*',u[k,t].X,'-',(bin[k,t].X),'*',v[k,t].X,'=',x[k,t])"
      ],
      "metadata": {
        "colab": {
          "base_uri": "https://localhost:8080/"
        },
        "id": "CxqLu4pjSIZN",
        "outputId": "b8d9bc2b-42b5-468f-b294-346af794f6e1"
      },
      "execution_count": 113,
      "outputs": [
        {
          "output_type": "stream",
          "name": "stdout",
          "text": [
            "scene 1 time: 1 => 1450.0 + 0.0 * 0.0 + 0.0 * -0.0 - 1.0 * 300.0 = 1150\n",
            "scene 1 time: 2 => 0.0 + 1.0 * 300.0 + 0.0 * -0.0 - 1.0 * 200.0 = 100\n",
            "scene 2 time: 1 => 1450.0 + 0.0 * 0.0 + 0.0 * -0.0 - 1.0 * 650.0 = 800\n",
            "scene 2 time: 2 => -0.0 + 1.0 * 650.0 + 0.0 * -0.0 - 1.0 * 550.0 = 100\n",
            "scene 3 time: 1 => 1450.0 + 0.0 * 0.0 + 0.0 * -0.0 - 1.0 * 400.0 = 1050\n",
            "scene 3 time: 2 => 0.0 + 1.0 * 400.0 + 0.0 * -0.0 - 1.0 * 300.0 = 100\n",
            "scene 4 time: 1 => 1450.0 + 0.0 * 0.0 + 0.0 * -0.0 - 1.0 * 450.0 = 1000\n",
            "scene 4 time: 2 => 0.0 + 1.0 * 450.0 + 0.0 * -0.0 - 1.0 * 350.0 = 100\n",
            "scene 5 time: 1 => 1450.0 + 0.0 * 0.0 + 0.0 * -0.0 - 1.0 * 500.0 = 950\n",
            "scene 5 time: 2 => 0.0 + 1.0 * 500.0 + 0.0 * -0.0 - 1.0 * 400.0 = 100\n",
            "scene 6 time: 1 => 1450.0 + 0.0 * 0.0 + 0.0 * -0.0 - 1.0 * 700.0 = 750\n",
            "scene 6 time: 2 => 0.0 + 1.0 * 700.0 + 0.0 * -0.0 - 1.0 * 600.0 = 100\n",
            "scene 7 time: 1 => 1450.0 + 0.0 * 0.0 + 0.0 * -0.0 - 1.0 * 200.0 = 1250\n",
            "scene 7 time: 2 => 0.0 + 1.0 * 200.0 + 0.0 * -0.0 - 1.0 * 100.0 = 100\n",
            "scene 8 time: 1 => 1450.0 + 0.0 * 0.0 + 0.0 * -0.0 - 1.0 * 550.0 = 900\n",
            "scene 8 time: 2 => 0.0 + 1.0 * 550.0 + 0.0 * -0.0 - 1.0 * 450.0 = 100\n",
            "scene 9 time: 1 => 1450.0 + 0.0 * 0.0 + 0.0 * -0.0 - 1.0 * 450.0 = 1000\n",
            "scene 9 time: 2 => 0.0 + 1.0 * 450.0 + 0.0 * -0.0 - 1.0 * 350.0 = 100\n",
            "scene 10 time: 1 => 1450.0 + 0.0 * 0.0 + 0.0 * -0.0 - 1.0 * 500.0 = 950\n",
            "scene 10 time: 2 => 0.0 + 1.0 * 500.0 + 0.0 * -0.0 - 1.0 * 350.0 = 150\n",
            "scene 11 time: 1 => 1450.0 + 0.0 * 0.0 + 0.0 * -0.0 - 1.0 * 550.0 = 900\n",
            "scene 11 time: 2 => 0.0 + 1.0 * 550.0 + 0.0 * -0.0 - 1.0 * 450.0 = 100\n",
            "scene 12 time: 1 => 1450.0 + 0.0 * 0.0 + 0.0 * -0.0 - 1.0 * 650.0 = 800\n",
            "scene 12 time: 2 => 0.0 + 1.0 * 650.0 + 0.0 * -0.0 - 1.0 * 550.0 = 100\n",
            "scene 13 time: 1 => 1450.0 + 0.0 * 0.0 + 0.0 * -0.0 - 1.0 * 400.0 = 1050\n",
            "scene 13 time: 2 => 0.0 + 1.0 * 400.0 + 0.0 * -0.0 - 1.0 * 300.0 = 100\n",
            "scene 14 time: 1 => 1450.0 + 0.0 * 0.0 + 0.0 * -0.0 - 1.0 * 700.0 = 750\n",
            "scene 14 time: 2 => 0.0 + 1.0 * 700.0 + 0.0 * -0.0 - 1.0 * 550.0 = 150\n",
            "scene 15 time: 1 => 1450.0 + 0.0 * 0.0 + 0.0 * -0.0 - 1.0 * 550.0 = 900\n",
            "scene 15 time: 2 => 0.0 + 1.0 * 550.0 + 0.0 * -0.0 - 1.0 * 400.0 = 150\n",
            "scene 16 time: 1 => 1450.0 + 0.0 * 0.0 + 0.0 * -0.0 - 1.0 * 600.0 = 850\n",
            "scene 16 time: 2 => 0.0 + 1.0 * 600.0 + 0.0 * -0.0 - 1.0 * 450.0 = 150\n",
            "scene 17 time: 1 => 1450.0 + 0.0 * 0.0 + 0.0 * -0.0 - 1.0 * 200.0 = 1250\n",
            "scene 17 time: 2 => 0.0 + 1.0 * 200.0 + 0.0 * -0.0 - 1.0 * 50.0 = 150\n",
            "scene 18 time: 1 => 1450.0 + 0.0 * 0.0 + 0.0 * -0.0 - 1.0 * 600.0 = 850\n",
            "scene 18 time: 2 => 0.0 + 1.0 * 600.0 + 0.0 * -0.0 - 1.0 * 450.0 = 150\n",
            "scene 19 time: 1 => 1450.0 + 0.0 * 0.0 + 0.0 * -0.0 - 1.0 * 700.0 = 750\n",
            "scene 19 time: 2 => 0.0 + 1.0 * 700.0 + 0.0 * -0.0 - 1.0 * 550.0 = 150\n",
            "scene 20 time: 1 => 1450.0 + 0.0 * 0.0 + 0.0 * -0.0 - 1.0 * 350.0 = 1100\n",
            "scene 20 time: 2 => 0.0 + 1.0 * 350.0 + 0.0 * -0.0 - 1.0 * 250.0 = 100\n",
            "scene 21 time: 1 => 1450.0 + 0.0 * 0.0 + 0.0 * -0.0 - 1.0 * 250.0 = 1200\n",
            "scene 21 time: 2 => 0.0 + 1.0 * 250.0 + 0.0 * -0.0 - 1.0 * 100.0 = 150\n",
            "scene 22 time: 1 => 1450.0 + 0.0 * 0.0 + 0.0 * -0.0 - 1.0 * 600.0 = 850\n",
            "scene 22 time: 2 => 0.0 + 1.0 * 600.0 + 0.0 * -0.0 - 1.0 * 450.0 = 150\n",
            "scene 23 time: 1 => 1450.0 + 0.0 * 0.0 + 0.0 * -0.0 - 1.0 * 400.0 = 1050\n",
            "scene 23 time: 2 => 0.0 + 1.0 * 400.0 + 0.0 * -0.0 - 1.0 * 300.0 = 100\n",
            "scene 24 time: 1 => 1450.0 + 0.0 * 0.0 + 0.0 * -0.0 - 1.0 * 350.0 = 1100\n",
            "scene 24 time: 2 => 0.0 + 1.0 * 350.0 + 0.0 * -0.0 - 1.0 * 200.0 = 150\n",
            "scene 25 time: 1 => 1450.0 + 0.0 * 0.0 + 0.0 * -0.0 - 1.0 * 350.0 = 1100\n",
            "scene 25 time: 2 => 0.0 + 1.0 * 350.0 + 0.0 * -0.0 - 1.0 * 200.0 = 150\n",
            "scene 26 time: 1 => 1450.0 + 0.0 * 0.0 + 0.0 * -0.0 - 1.0 * 500.0 = 950\n",
            "scene 26 time: 2 => 0.0 + 1.0 * 500.0 + 0.0 * -0.0 - 1.0 * 350.0 = 150\n",
            "scene 27 time: 1 => 1450.0 + 0.0 * 0.0 + 0.0 * -0.0 - 1.0 * 150.0 = 1300\n",
            "scene 27 time: 2 => 0.0 + 1.0 * 150.0 + 1.0 * -0.0 - 0.0 * -0.0 = 150\n",
            "scene 28 time: 1 => 1450.0 + 0.0 * 0.0 + 0.0 * -0.0 - 1.0 * 350.0 = 1100\n",
            "scene 28 time: 2 => 0.0 + 1.0 * 350.0 + 0.0 * -0.0 - 1.0 * 250.0 = 100\n",
            "scene 29 time: 1 => 1450.0 + 0.0 * 0.0 + 0.0 * -0.0 - 1.0 * 200.0 = 1250\n",
            "scene 29 time: 2 => 0.0 + 1.0 * 200.0 + 0.0 * -0.0 - 1.0 * 100.0 = 100\n",
            "scene 30 time: 1 => 1450.0 + 0.0 * 0.0 + 0.0 * -0.0 - 1.0 * 500.0 = 950\n",
            "scene 30 time: 2 => 0.0 + 1.0 * 500.0 + 0.0 * -0.0 - 1.0 * 400.0 = 100\n",
            "scene 31 time: 1 => 1450.0 + 0.0 * 0.0 + 0.0 * -0.0 - 1.0 * 150.0 = 1300\n",
            "scene 31 time: 2 => 0.0 + 1.0 * 150.0 + 0.0 * -0.0 - 1.0 * 50.0 = 100\n",
            "scene 32 time: 1 => 1450.0 + 0.0 * 0.0 + 0.0 * -0.0 - 1.0 * 700.0 = 750\n",
            "scene 32 time: 2 => 0.0 + 1.0 * 700.0 + 0.0 * -0.0 - 1.0 * 550.0 = 150\n",
            "scene 33 time: 1 => 1450.0 + 0.0 * 0.0 + 0.0 * -0.0 - 1.0 * 600.0 = 850\n",
            "scene 33 time: 2 => 0.0 + 1.0 * 600.0 + 0.0 * -0.0 - 1.0 * 500.0 = 100\n",
            "scene 34 time: 1 => 1450.0 + 0.0 * 0.0 + 0.0 * -0.0 - 1.0 * 450.0 = 1000\n",
            "scene 34 time: 2 => 0.0 + 1.0 * 450.0 + 0.0 * -0.0 - 1.0 * 350.0 = 100\n",
            "scene 35 time: 1 => 1450.0 + 0.0 * 0.0 + 0.0 * -0.0 - 1.0 * 150.0 = 1300\n",
            "scene 35 time: 2 => 0.0 + 1.0 * 150.0 + 1.0 * -0.0 - 0.0 * -0.0 = 150\n",
            "scene 36 time: 1 => 1450.0 + 0.0 * 0.0 + 0.0 * -0.0 - 1.0 * 500.0 = 950\n",
            "scene 36 time: 2 => 0.0 + 1.0 * 500.0 + 0.0 * -0.0 - 1.0 * 400.0 = 100\n"
          ]
        }
      ]
    },
    {
      "cell_type": "code",
      "source": [
        "for k in K:\n",
        "  for t in T:\n",
        "    print('scene:',k,'time:',t,Q[k,t].X,'+',v[k,t-1].X,'+',u[k,t].X,'-',v[k,t].X,'=',x[k,t])"
      ],
      "metadata": {
        "colab": {
          "base_uri": "https://localhost:8080/"
        },
        "id": "EwBK07E__8GJ",
        "outputId": "41f95348-2333-4eb0-d363-26a9ba600054"
      },
      "execution_count": 114,
      "outputs": [
        {
          "output_type": "stream",
          "name": "stdout",
          "text": [
            "scene: 1 time: 1 1450.0 + 0.0 + -0.0 - 300.0 = 1150\n",
            "scene: 1 time: 2 0.0 + 300.0 + -0.0 - 200.0 = 100\n",
            "scene: 2 time: 1 1450.0 + 0.0 + -0.0 - 650.0 = 800\n",
            "scene: 2 time: 2 -0.0 + 650.0 + -0.0 - 550.0 = 100\n",
            "scene: 3 time: 1 1450.0 + 0.0 + -0.0 - 400.0 = 1050\n",
            "scene: 3 time: 2 0.0 + 400.0 + -0.0 - 300.0 = 100\n",
            "scene: 4 time: 1 1450.0 + 0.0 + -0.0 - 450.0 = 1000\n",
            "scene: 4 time: 2 0.0 + 450.0 + -0.0 - 350.0 = 100\n",
            "scene: 5 time: 1 1450.0 + 0.0 + -0.0 - 500.0 = 950\n",
            "scene: 5 time: 2 0.0 + 500.0 + -0.0 - 400.0 = 100\n",
            "scene: 6 time: 1 1450.0 + 0.0 + -0.0 - 700.0 = 750\n",
            "scene: 6 time: 2 0.0 + 700.0 + -0.0 - 600.0 = 100\n",
            "scene: 7 time: 1 1450.0 + 0.0 + -0.0 - 200.0 = 1250\n",
            "scene: 7 time: 2 0.0 + 200.0 + -0.0 - 100.0 = 100\n",
            "scene: 8 time: 1 1450.0 + 0.0 + -0.0 - 550.0 = 900\n",
            "scene: 8 time: 2 0.0 + 550.0 + -0.0 - 450.0 = 100\n",
            "scene: 9 time: 1 1450.0 + 0.0 + -0.0 - 450.0 = 1000\n",
            "scene: 9 time: 2 0.0 + 450.0 + -0.0 - 350.0 = 100\n",
            "scene: 10 time: 1 1450.0 + 0.0 + -0.0 - 500.0 = 950\n",
            "scene: 10 time: 2 0.0 + 500.0 + -0.0 - 350.0 = 150\n",
            "scene: 11 time: 1 1450.0 + 0.0 + -0.0 - 550.0 = 900\n",
            "scene: 11 time: 2 0.0 + 550.0 + -0.0 - 450.0 = 100\n",
            "scene: 12 time: 1 1450.0 + 0.0 + -0.0 - 650.0 = 800\n",
            "scene: 12 time: 2 0.0 + 650.0 + -0.0 - 550.0 = 100\n",
            "scene: 13 time: 1 1450.0 + 0.0 + -0.0 - 400.0 = 1050\n",
            "scene: 13 time: 2 0.0 + 400.0 + -0.0 - 300.0 = 100\n",
            "scene: 14 time: 1 1450.0 + 0.0 + -0.0 - 700.0 = 750\n",
            "scene: 14 time: 2 0.0 + 700.0 + -0.0 - 550.0 = 150\n",
            "scene: 15 time: 1 1450.0 + 0.0 + -0.0 - 550.0 = 900\n",
            "scene: 15 time: 2 0.0 + 550.0 + -0.0 - 400.0 = 150\n",
            "scene: 16 time: 1 1450.0 + 0.0 + -0.0 - 600.0 = 850\n",
            "scene: 16 time: 2 0.0 + 600.0 + -0.0 - 450.0 = 150\n",
            "scene: 17 time: 1 1450.0 + 0.0 + -0.0 - 200.0 = 1250\n",
            "scene: 17 time: 2 0.0 + 200.0 + -0.0 - 50.0 = 150\n",
            "scene: 18 time: 1 1450.0 + 0.0 + -0.0 - 600.0 = 850\n",
            "scene: 18 time: 2 0.0 + 600.0 + -0.0 - 450.0 = 150\n",
            "scene: 19 time: 1 1450.0 + 0.0 + -0.0 - 700.0 = 750\n",
            "scene: 19 time: 2 0.0 + 700.0 + -0.0 - 550.0 = 150\n",
            "scene: 20 time: 1 1450.0 + 0.0 + -0.0 - 350.0 = 1100\n",
            "scene: 20 time: 2 0.0 + 350.0 + -0.0 - 250.0 = 100\n",
            "scene: 21 time: 1 1450.0 + 0.0 + -0.0 - 250.0 = 1200\n",
            "scene: 21 time: 2 0.0 + 250.0 + -0.0 - 100.0 = 150\n",
            "scene: 22 time: 1 1450.0 + 0.0 + -0.0 - 600.0 = 850\n",
            "scene: 22 time: 2 0.0 + 600.0 + -0.0 - 450.0 = 150\n",
            "scene: 23 time: 1 1450.0 + 0.0 + -0.0 - 400.0 = 1050\n",
            "scene: 23 time: 2 0.0 + 400.0 + -0.0 - 300.0 = 100\n",
            "scene: 24 time: 1 1450.0 + 0.0 + -0.0 - 350.0 = 1100\n",
            "scene: 24 time: 2 0.0 + 350.0 + -0.0 - 200.0 = 150\n",
            "scene: 25 time: 1 1450.0 + 0.0 + -0.0 - 350.0 = 1100\n",
            "scene: 25 time: 2 0.0 + 350.0 + -0.0 - 200.0 = 150\n",
            "scene: 26 time: 1 1450.0 + 0.0 + -0.0 - 500.0 = 950\n",
            "scene: 26 time: 2 0.0 + 500.0 + -0.0 - 350.0 = 150\n",
            "scene: 27 time: 1 1450.0 + 0.0 + -0.0 - 150.0 = 1300\n",
            "scene: 27 time: 2 0.0 + 150.0 + -0.0 - -0.0 = 150\n",
            "scene: 28 time: 1 1450.0 + 0.0 + -0.0 - 350.0 = 1100\n",
            "scene: 28 time: 2 0.0 + 350.0 + -0.0 - 250.0 = 100\n",
            "scene: 29 time: 1 1450.0 + 0.0 + -0.0 - 200.0 = 1250\n",
            "scene: 29 time: 2 0.0 + 200.0 + -0.0 - 100.0 = 100\n",
            "scene: 30 time: 1 1450.0 + 0.0 + -0.0 - 500.0 = 950\n",
            "scene: 30 time: 2 0.0 + 500.0 + -0.0 - 400.0 = 100\n",
            "scene: 31 time: 1 1450.0 + 0.0 + -0.0 - 150.0 = 1300\n",
            "scene: 31 time: 2 0.0 + 150.0 + -0.0 - 50.0 = 100\n",
            "scene: 32 time: 1 1450.0 + 0.0 + -0.0 - 700.0 = 750\n",
            "scene: 32 time: 2 0.0 + 700.0 + -0.0 - 550.0 = 150\n",
            "scene: 33 time: 1 1450.0 + 0.0 + -0.0 - 600.0 = 850\n",
            "scene: 33 time: 2 0.0 + 600.0 + -0.0 - 500.0 = 100\n",
            "scene: 34 time: 1 1450.0 + 0.0 + -0.0 - 450.0 = 1000\n",
            "scene: 34 time: 2 0.0 + 450.0 + -0.0 - 350.0 = 100\n",
            "scene: 35 time: 1 1450.0 + 0.0 + -0.0 - 150.0 = 1300\n",
            "scene: 35 time: 2 0.0 + 150.0 + -0.0 - -0.0 = 150\n",
            "scene: 36 time: 1 1450.0 + 0.0 + -0.0 - 500.0 = 950\n",
            "scene: 36 time: 2 0.0 + 500.0 + -0.0 - 400.0 = 100\n"
          ]
        }
      ]
    },
    {
      "cell_type": "code",
      "source": [
        "x[k,t]"
      ],
      "metadata": {
        "id": "AETHz5Wxa-Y1",
        "colab": {
          "base_uri": "https://localhost:8080/"
        },
        "outputId": "f15de666-335b-4205-ebf3-d55658b63e5f"
      },
      "execution_count": 115,
      "outputs": [
        {
          "output_type": "execute_result",
          "data": {
            "text/plain": [
              "100"
            ]
          },
          "metadata": {},
          "execution_count": 115
        }
      ]
    },
    {
      "cell_type": "code",
      "source": [],
      "metadata": {
        "id": "8tGs8dR5R5m6"
      },
      "execution_count": 115,
      "outputs": []
    }
  ]
}
